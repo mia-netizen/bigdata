{
  "nbformat": 4,
  "nbformat_minor": 0,
  "metadata": {
    "colab": {
      "name": "0316_作業.ipynb",
      "provenance": [],
      "collapsed_sections": [],
      "include_colab_link": true
    },
    "kernelspec": {
      "name": "ir",
      "display_name": "R"
    }
  },
  "cells": [
    {
      "cell_type": "markdown",
      "metadata": {
        "id": "view-in-github",
        "colab_type": "text"
      },
      "source": [
        "<a href=\"https://colab.research.google.com/github/mia-netizen/bigdata/blob/main/0316_%E4%BD%9C%E6%A5%AD.ipynb\" target=\"_parent\"><img src=\"https://colab.research.google.com/assets/colab-badge.svg\" alt=\"Open In Colab\"/></a>"
      ]
    },
    {
      "cell_type": "code",
      "metadata": {
        "id": "2saxy3IfOjx1",
        "colab": {
          "base_uri": "https://localhost:8080/",
          "height": 96
        },
        "outputId": "733f0df3-f229-40cf-80b2-a749ab91d116"
      },
      "source": [
        "\n",
        "install.package(\"jsonlite\")"
      ],
      "execution_count": null,
      "outputs": [
        {
          "output_type": "error",
          "ename": "ERROR",
          "evalue": "ignored",
          "traceback": [
            "Error in install.package(\"jsonlite\"): could not find function \"install.package\"\nTraceback:\n"
          ]
        }
      ]
    },
    {
      "cell_type": "code",
      "metadata": {
        "id": "qjZ6m7OUXieI"
      },
      "source": [
        "\n",
        "library(\"jsonlite\")"
      ],
      "execution_count": null,
      "outputs": []
    },
    {
      "cell_type": "code",
      "metadata": {
        "colab": {
          "base_uri": "https://localhost:8080/"
        },
        "id": "IKwARkGOja83",
        "outputId": "37d3651c-c06a-4aad-8659-44e102efd349"
      },
      "source": [
        "#YouBike2.0臺北市公共自行車即時資訊\n",
        "Youbike <- jsonlite::fromJSON(\"https://tcgbusfs.blob.core.windows.net/dotapp/youbike/v2/youbike_immediate.json\")\n",
        "str(Youbike)"
      ],
      "execution_count": 48,
      "outputs": [
        {
          "output_type": "stream",
          "text": [
            "'data.frame':\t103 obs. of  18 variables:\n",
            " $ sno          : chr  \"500101001\" \"500101002\" \"500101003\" \"500101004\" ...\n",
            " $ sna          : chr  \"YouBike2.0_捷運科技大樓站\" \"YouBike2.0_復興南路二段273號前\" \"YouBike2.0_國北教大實小東側門\" \"YouBike2.0_和平公園東側\" ...\n",
            " $ tot          : int  17 15 16 11 16 11 11 17 16 20 ...\n",
            " $ sbi          : int  12 15 5 5 1 11 1 3 7 18 ...\n",
            " $ sarea        : chr  \"大安區\" \"大安區\" \"大安區\" \"大安區\" ...\n",
            " $ mday         : chr  \"2021-03-17 17:47:05\" \"2021-03-17 17:47:05\" \"2021-03-17 17:47:05\" \"2021-03-17 17:47:05\" ...\n",
            " $ lat          : num  25 25 25 25 25 ...\n",
            " $ lng          : num  122 122 122 122 122 ...\n",
            " $ ar           : chr  \"復興南路二段235號前\" \"復興南路二段273號西側\" \"和平東路二段96巷7號\" \"和平東路二段118巷33號\" ...\n",
            " $ sareaen      : chr  \"Daan Dist.\" \"Daan Dist.\" \"Daan Dist.\" \"Daan Dist.\" ...\n",
            " $ snaen        : chr  \"YouBike2.0_MRT Technology Bldg. Sta.\" \"YouBike2.0_No.273， Sec. 2， Fuxing S. Rd.\" \"YouBike2.0_NTUE Experiment Elementary School (East)\" \"YouBike2.0_Heping Park (East)\" ...\n",
            " $ aren         : chr  \"No.235， Sec. 2， Fuxing S. Rd.\" \"No.273， Sec. 2， Fuxing S. Rd. (West)\" \"No. 7， Ln. 96， Sec. 2， Heping E. Rd\" \"No. 33， Ln. 118， Sec. 2， Heping E. Rd\" ...\n",
            " $ bemp         : int  1 0 11 6 15 0 10 14 9 2 ...\n",
            " $ act          : chr  \"1\" \"1\" \"1\" \"1\" ...\n",
            " $ srcUpdateTime: chr  \"2021-03-17 17:47:10\" \"2021-03-17 17:47:10\" \"2021-03-17 17:47:10\" \"2021-03-17 17:47:10\" ...\n",
            " $ updateTime   : chr  \"2021-03-17 17:47:50\" \"2021-03-17 17:47:50\" \"2021-03-17 17:47:50\" \"2021-03-17 17:47:50\" ...\n",
            " $ infoTime     : chr  \"2021-03-17 17:47:05\" \"2021-03-17 17:47:05\" \"2021-03-17 17:47:05\" \"2021-03-17 17:47:05\" ...\n",
            " $ infoDate     : chr  \"2021-03-17\" \"2021-03-17\" \"2021-03-17\" \"2021-03-17\" ...\n"
          ],
          "name": "stdout"
        }
      ]
    },
    {
      "cell_type": "code",
      "metadata": {
        "colab": {
          "base_uri": "https://localhost:8080/",
          "height": 711
        },
        "id": "R-nqmPomlhcn",
        "outputId": "88a0d96d-80b2-4574-d06a-00af491ec1ab"
      },
      "source": [
        "head(Youbike)"
      ],
      "execution_count": 52,
      "outputs": [
        {
          "output_type": "display_data",
          "data": {
            "text/plain": [
              "  sno       sna                            tot sbi sarea  mday               \n",
              "1 500101001 YouBike2.0_捷運科技大樓站      17  12  大安區 2021-03-17 17:47:05\n",
              "2 500101002 YouBike2.0_復興南路二段273號前 15  15  大安區 2021-03-17 17:47:05\n",
              "3 500101003 YouBike2.0_國北教大實小東側門  16   5  大安區 2021-03-17 17:47:05\n",
              "4 500101004 YouBike2.0_和平公園東側        11   5  大安區 2021-03-17 17:47:05\n",
              "5 500101005 YouBike2.0_辛亥復興路口西北側  16   1  大安區 2021-03-17 17:47:05\n",
              "6 500101006 YouBike2.0_復興南路二段280號前 11  11  大安區 2021-03-17 17:47:05\n",
              "  lat      lng      ar                    sareaen   \n",
              "1 25.02605 121.5436 復興南路二段235號前   Daan Dist.\n",
              "2 25.02565 121.5436 復興南路二段273號西側 Daan Dist.\n",
              "3 25.02429 121.5412 和平東路二段96巷7號   Daan Dist.\n",
              "4 25.02351 121.5428 和平東路二段118巷33號 Daan Dist.\n",
              "5 25.02153 121.5430 復興南路二段368號     Daan Dist.\n",
              "6 25.02429 121.5433 復興南路二段280號     Daan Dist.\n",
              "  snaen                                                \n",
              "1 YouBike2.0_MRT Technology Bldg. Sta.                 \n",
              "2 YouBike2.0_No.273， Sec. 2， Fuxing S. Rd.           \n",
              "3 YouBike2.0_NTUE Experiment Elementary School (East)  \n",
              "4 YouBike2.0_Heping Park (East)                        \n",
              "5 YouBike2.0_Xinhai Fuxing Rd. Intersection (Northwest)\n",
              "6 YouBike2.0_No. 280， Sec. 2， Fuxing S. Rd.          \n",
              "  aren                                     bemp act srcUpdateTime      \n",
              "1 No.235， Sec. 2， Fuxing S. Rd.           1   1   2021-03-17 17:47:10\n",
              "2 No.273， Sec. 2， Fuxing S. Rd. (West)    0   1   2021-03-17 17:47:10\n",
              "3 No. 7， Ln. 96， Sec. 2， Heping E. Rd   11   1   2021-03-17 17:47:10\n",
              "4 No. 33， Ln. 118， Sec. 2， Heping E. Rd  6   1   2021-03-17 17:47:10\n",
              "5 No. 368， Sec. 2， Fuxing S. Rd.         15   1   2021-03-17 17:47:10\n",
              "6 No. 280， Sec. 2， Fuxing S. Rd.          0   1   2021-03-17 17:47:10\n",
              "  updateTime          infoTime            infoDate  \n",
              "1 2021-03-17 17:47:50 2021-03-17 17:47:05 2021-03-17\n",
              "2 2021-03-17 17:47:50 2021-03-17 17:47:05 2021-03-17\n",
              "3 2021-03-17 17:47:50 2021-03-17 17:47:05 2021-03-17\n",
              "4 2021-03-17 17:47:50 2021-03-17 17:47:05 2021-03-17\n",
              "5 2021-03-17 17:47:50 2021-03-17 17:47:05 2021-03-17\n",
              "6 2021-03-17 17:47:50 2021-03-17 17:47:05 2021-03-17"
            ],
            "text/latex": "A data.frame: 6 × 18\n\\begin{tabular}{r|llllllllllllllllll}\n  & sno & sna & tot & sbi & sarea & mday & lat & lng & ar & sareaen & snaen & aren & bemp & act & srcUpdateTime & updateTime & infoTime & infoDate\\\\\n  & <chr> & <chr> & <int> & <int> & <chr> & <chr> & <dbl> & <dbl> & <chr> & <chr> & <chr> & <chr> & <int> & <chr> & <chr> & <chr> & <chr> & <chr>\\\\\n\\hline\n\t1 & 500101001 & YouBike2.0\\_捷運科技大樓站      & 17 & 12 & 大安區 & 2021-03-17 17:47:05 & 25.02605 & 121.5436 & 復興南路二段235號前   & Daan Dist. & YouBike2.0\\_MRT Technology Bldg. Sta.                  & No.235， Sec. 2， Fuxing S. Rd.          &  1 & 1 & 2021-03-17 17:47:10 & 2021-03-17 17:47:50 & 2021-03-17 17:47:05 & 2021-03-17\\\\\n\t2 & 500101002 & YouBike2.0\\_復興南路二段273號前 & 15 & 15 & 大安區 & 2021-03-17 17:47:05 & 25.02565 & 121.5436 & 復興南路二段273號西側 & Daan Dist. & YouBike2.0\\_No.273， Sec. 2， Fuxing S. Rd.            & No.273， Sec. 2， Fuxing S. Rd. (West)   &  0 & 1 & 2021-03-17 17:47:10 & 2021-03-17 17:47:50 & 2021-03-17 17:47:05 & 2021-03-17\\\\\n\t3 & 500101003 & YouBike2.0\\_國北教大實小東側門  & 16 &  5 & 大安區 & 2021-03-17 17:47:05 & 25.02429 & 121.5412 & 和平東路二段96巷7號   & Daan Dist. & YouBike2.0\\_NTUE Experiment Elementary School (East)   & No. 7， Ln. 96， Sec. 2， Heping E. Rd   & 11 & 1 & 2021-03-17 17:47:10 & 2021-03-17 17:47:50 & 2021-03-17 17:47:05 & 2021-03-17\\\\\n\t4 & 500101004 & YouBike2.0\\_和平公園東側        & 11 &  5 & 大安區 & 2021-03-17 17:47:05 & 25.02351 & 121.5428 & 和平東路二段118巷33號 & Daan Dist. & YouBike2.0\\_Heping Park (East)                         & No. 33， Ln. 118， Sec. 2， Heping E. Rd &  6 & 1 & 2021-03-17 17:47:10 & 2021-03-17 17:47:50 & 2021-03-17 17:47:05 & 2021-03-17\\\\\n\t5 & 500101005 & YouBike2.0\\_辛亥復興路口西北側  & 16 &  1 & 大安區 & 2021-03-17 17:47:05 & 25.02153 & 121.5430 & 復興南路二段368號     & Daan Dist. & YouBike2.0\\_Xinhai Fuxing Rd. Intersection (Northwest) & No. 368， Sec. 2， Fuxing S. Rd.         & 15 & 1 & 2021-03-17 17:47:10 & 2021-03-17 17:47:50 & 2021-03-17 17:47:05 & 2021-03-17\\\\\n\t6 & 500101006 & YouBike2.0\\_復興南路二段280號前 & 11 & 11 & 大安區 & 2021-03-17 17:47:05 & 25.02429 & 121.5433 & 復興南路二段280號     & Daan Dist. & YouBike2.0\\_No. 280， Sec. 2， Fuxing S. Rd.           & No. 280， Sec. 2， Fuxing S. Rd.         &  0 & 1 & 2021-03-17 17:47:10 & 2021-03-17 17:47:50 & 2021-03-17 17:47:05 & 2021-03-17\\\\\n\\end{tabular}\n",
            "text/markdown": "\nA data.frame: 6 × 18\n\n| <!--/--> | sno &lt;chr&gt; | sna &lt;chr&gt; | tot &lt;int&gt; | sbi &lt;int&gt; | sarea &lt;chr&gt; | mday &lt;chr&gt; | lat &lt;dbl&gt; | lng &lt;dbl&gt; | ar &lt;chr&gt; | sareaen &lt;chr&gt; | snaen &lt;chr&gt; | aren &lt;chr&gt; | bemp &lt;int&gt; | act &lt;chr&gt; | srcUpdateTime &lt;chr&gt; | updateTime &lt;chr&gt; | infoTime &lt;chr&gt; | infoDate &lt;chr&gt; |\n|---|---|---|---|---|---|---|---|---|---|---|---|---|---|---|---|---|---|---|\n| 1 | 500101001 | YouBike2.0_捷運科技大樓站      | 17 | 12 | 大安區 | 2021-03-17 17:47:05 | 25.02605 | 121.5436 | 復興南路二段235號前   | Daan Dist. | YouBike2.0_MRT Technology Bldg. Sta.                  | No.235， Sec. 2， Fuxing S. Rd.          |  1 | 1 | 2021-03-17 17:47:10 | 2021-03-17 17:47:50 | 2021-03-17 17:47:05 | 2021-03-17 |\n| 2 | 500101002 | YouBike2.0_復興南路二段273號前 | 15 | 15 | 大安區 | 2021-03-17 17:47:05 | 25.02565 | 121.5436 | 復興南路二段273號西側 | Daan Dist. | YouBike2.0_No.273， Sec. 2， Fuxing S. Rd.            | No.273， Sec. 2， Fuxing S. Rd. (West)   |  0 | 1 | 2021-03-17 17:47:10 | 2021-03-17 17:47:50 | 2021-03-17 17:47:05 | 2021-03-17 |\n| 3 | 500101003 | YouBike2.0_國北教大實小東側門  | 16 |  5 | 大安區 | 2021-03-17 17:47:05 | 25.02429 | 121.5412 | 和平東路二段96巷7號   | Daan Dist. | YouBike2.0_NTUE Experiment Elementary School (East)   | No. 7， Ln. 96， Sec. 2， Heping E. Rd   | 11 | 1 | 2021-03-17 17:47:10 | 2021-03-17 17:47:50 | 2021-03-17 17:47:05 | 2021-03-17 |\n| 4 | 500101004 | YouBike2.0_和平公園東側        | 11 |  5 | 大安區 | 2021-03-17 17:47:05 | 25.02351 | 121.5428 | 和平東路二段118巷33號 | Daan Dist. | YouBike2.0_Heping Park (East)                         | No. 33， Ln. 118， Sec. 2， Heping E. Rd |  6 | 1 | 2021-03-17 17:47:10 | 2021-03-17 17:47:50 | 2021-03-17 17:47:05 | 2021-03-17 |\n| 5 | 500101005 | YouBike2.0_辛亥復興路口西北側  | 16 |  1 | 大安區 | 2021-03-17 17:47:05 | 25.02153 | 121.5430 | 復興南路二段368號     | Daan Dist. | YouBike2.0_Xinhai Fuxing Rd. Intersection (Northwest) | No. 368， Sec. 2， Fuxing S. Rd.         | 15 | 1 | 2021-03-17 17:47:10 | 2021-03-17 17:47:50 | 2021-03-17 17:47:05 | 2021-03-17 |\n| 6 | 500101006 | YouBike2.0_復興南路二段280號前 | 11 | 11 | 大安區 | 2021-03-17 17:47:05 | 25.02429 | 121.5433 | 復興南路二段280號     | Daan Dist. | YouBike2.0_No. 280， Sec. 2， Fuxing S. Rd.           | No. 280， Sec. 2， Fuxing S. Rd.         |  0 | 1 | 2021-03-17 17:47:10 | 2021-03-17 17:47:50 | 2021-03-17 17:47:05 | 2021-03-17 |\n\n",
            "text/html": [
              "<table class=\"dataframe\">\n",
              "<caption>A data.frame: 6 × 18</caption>\n",
              "<thead>\n",
              "\t<tr><th></th><th scope=col>sno</th><th scope=col>sna</th><th scope=col>tot</th><th scope=col>sbi</th><th scope=col>sarea</th><th scope=col>mday</th><th scope=col>lat</th><th scope=col>lng</th><th scope=col>ar</th><th scope=col>sareaen</th><th scope=col>snaen</th><th scope=col>aren</th><th scope=col>bemp</th><th scope=col>act</th><th scope=col>srcUpdateTime</th><th scope=col>updateTime</th><th scope=col>infoTime</th><th scope=col>infoDate</th></tr>\n",
              "\t<tr><th></th><th scope=col>&lt;chr&gt;</th><th scope=col>&lt;chr&gt;</th><th scope=col>&lt;int&gt;</th><th scope=col>&lt;int&gt;</th><th scope=col>&lt;chr&gt;</th><th scope=col>&lt;chr&gt;</th><th scope=col>&lt;dbl&gt;</th><th scope=col>&lt;dbl&gt;</th><th scope=col>&lt;chr&gt;</th><th scope=col>&lt;chr&gt;</th><th scope=col>&lt;chr&gt;</th><th scope=col>&lt;chr&gt;</th><th scope=col>&lt;int&gt;</th><th scope=col>&lt;chr&gt;</th><th scope=col>&lt;chr&gt;</th><th scope=col>&lt;chr&gt;</th><th scope=col>&lt;chr&gt;</th><th scope=col>&lt;chr&gt;</th></tr>\n",
              "</thead>\n",
              "<tbody>\n",
              "\t<tr><th scope=row>1</th><td>500101001</td><td>YouBike2.0_捷運科技大樓站     </td><td>17</td><td>12</td><td>大安區</td><td>2021-03-17 17:47:05</td><td>25.02605</td><td>121.5436</td><td>復興南路二段235號前  </td><td>Daan Dist.</td><td>YouBike2.0_MRT Technology Bldg. Sta.                 </td><td>No.235， Sec. 2， Fuxing S. Rd.         </td><td> 1</td><td>1</td><td>2021-03-17 17:47:10</td><td>2021-03-17 17:47:50</td><td>2021-03-17 17:47:05</td><td>2021-03-17</td></tr>\n",
              "\t<tr><th scope=row>2</th><td>500101002</td><td>YouBike2.0_復興南路二段273號前</td><td>15</td><td>15</td><td>大安區</td><td>2021-03-17 17:47:05</td><td>25.02565</td><td>121.5436</td><td>復興南路二段273號西側</td><td>Daan Dist.</td><td>YouBike2.0_No.273， Sec. 2， Fuxing S. Rd.           </td><td>No.273， Sec. 2， Fuxing S. Rd. (West)  </td><td> 0</td><td>1</td><td>2021-03-17 17:47:10</td><td>2021-03-17 17:47:50</td><td>2021-03-17 17:47:05</td><td>2021-03-17</td></tr>\n",
              "\t<tr><th scope=row>3</th><td>500101003</td><td>YouBike2.0_國北教大實小東側門 </td><td>16</td><td> 5</td><td>大安區</td><td>2021-03-17 17:47:05</td><td>25.02429</td><td>121.5412</td><td>和平東路二段96巷7號  </td><td>Daan Dist.</td><td>YouBike2.0_NTUE Experiment Elementary School (East)  </td><td>No. 7， Ln. 96， Sec. 2， Heping E. Rd  </td><td>11</td><td>1</td><td>2021-03-17 17:47:10</td><td>2021-03-17 17:47:50</td><td>2021-03-17 17:47:05</td><td>2021-03-17</td></tr>\n",
              "\t<tr><th scope=row>4</th><td>500101004</td><td>YouBike2.0_和平公園東側       </td><td>11</td><td> 5</td><td>大安區</td><td>2021-03-17 17:47:05</td><td>25.02351</td><td>121.5428</td><td>和平東路二段118巷33號</td><td>Daan Dist.</td><td>YouBike2.0_Heping Park (East)                        </td><td>No. 33， Ln. 118， Sec. 2， Heping E. Rd</td><td> 6</td><td>1</td><td>2021-03-17 17:47:10</td><td>2021-03-17 17:47:50</td><td>2021-03-17 17:47:05</td><td>2021-03-17</td></tr>\n",
              "\t<tr><th scope=row>5</th><td>500101005</td><td>YouBike2.0_辛亥復興路口西北側 </td><td>16</td><td> 1</td><td>大安區</td><td>2021-03-17 17:47:05</td><td>25.02153</td><td>121.5430</td><td>復興南路二段368號    </td><td>Daan Dist.</td><td>YouBike2.0_Xinhai Fuxing Rd. Intersection (Northwest)</td><td>No. 368， Sec. 2， Fuxing S. Rd.        </td><td>15</td><td>1</td><td>2021-03-17 17:47:10</td><td>2021-03-17 17:47:50</td><td>2021-03-17 17:47:05</td><td>2021-03-17</td></tr>\n",
              "\t<tr><th scope=row>6</th><td>500101006</td><td>YouBike2.0_復興南路二段280號前</td><td>11</td><td>11</td><td>大安區</td><td>2021-03-17 17:47:05</td><td>25.02429</td><td>121.5433</td><td>復興南路二段280號    </td><td>Daan Dist.</td><td>YouBike2.0_No. 280， Sec. 2， Fuxing S. Rd.          </td><td>No. 280， Sec. 2， Fuxing S. Rd.        </td><td> 0</td><td>1</td><td>2021-03-17 17:47:10</td><td>2021-03-17 17:47:50</td><td>2021-03-17 17:47:05</td><td>2021-03-17</td></tr>\n",
              "</tbody>\n",
              "</table>\n"
            ]
          },
          "metadata": {
            "tags": []
          }
        }
      ]
    },
    {
      "cell_type": "code",
      "metadata": {
        "colab": {
          "base_uri": "https://localhost:8080/",
          "height": 1000
        },
        "id": "U-MLssI9ll1w",
        "outputId": "c52c2314-2de9-4fb8-a215-f8ba3c8b3c2b"
      },
      "source": [
        "head(Youbike , n=10)"
      ],
      "execution_count": 53,
      "outputs": [
        {
          "output_type": "display_data",
          "data": {
            "text/plain": [
              "   sno       sna                            tot sbi sarea  mday               \n",
              "1  500101001 YouBike2.0_捷運科技大樓站      17  12  大安區 2021-03-17 17:47:05\n",
              "2  500101002 YouBike2.0_復興南路二段273號前 15  15  大安區 2021-03-17 17:47:05\n",
              "3  500101003 YouBike2.0_國北教大實小東側門  16   5  大安區 2021-03-17 17:47:05\n",
              "4  500101004 YouBike2.0_和平公園東側        11   5  大安區 2021-03-17 17:47:05\n",
              "5  500101005 YouBike2.0_辛亥復興路口西北側  16   1  大安區 2021-03-17 17:47:05\n",
              "6  500101006 YouBike2.0_復興南路二段280號前 11  11  大安區 2021-03-17 17:47:05\n",
              "7  500101007 YouBike2.0_復興南路二段340巷口 11   1  大安區 2021-03-17 17:47:05\n",
              "8  500101008 YouBike2.0_新生南路三段52號前  17   3  大安區 2021-03-17 17:47:05\n",
              "9  500101009 YouBike2.0_新生南路三段66號前  16   7  大安區 2021-03-17 17:47:05\n",
              "10 500101010 YouBike2.0_新生南路三段82號前  20  18  大安區 2021-03-17 17:47:05\n",
              "   lat      lng      ar                    sareaen   \n",
              "1  25.02605 121.5436 復興南路二段235號前   Daan Dist.\n",
              "2  25.02565 121.5436 復興南路二段273號西側 Daan Dist.\n",
              "3  25.02429 121.5412 和平東路二段96巷7號   Daan Dist.\n",
              "4  25.02351 121.5428 和平東路二段118巷33號 Daan Dist.\n",
              "5  25.02153 121.5430 復興南路二段368號     Daan Dist.\n",
              "6  25.02429 121.5433 復興南路二段280號     Daan Dist.\n",
              "7  25.02253 121.5433 復興南路二段342號     Daan Dist.\n",
              "8  25.02112 121.5341 新生南路三段52號      Daan Dist.\n",
              "9  25.01976 121.5338 新生南路三段66號東側  Daan Dist.\n",
              "10 25.01894 121.5336 新生南路三段82號      Daan Dist.\n",
              "   snaen                                                \n",
              "1  YouBike2.0_MRT Technology Bldg. Sta.                 \n",
              "2  YouBike2.0_No.273， Sec. 2， Fuxing S. Rd.           \n",
              "3  YouBike2.0_NTUE Experiment Elementary School (East)  \n",
              "4  YouBike2.0_Heping Park (East)                        \n",
              "5  YouBike2.0_Xinhai Fuxing Rd. Intersection (Northwest)\n",
              "6  YouBike2.0_No. 280， Sec. 2， Fuxing S. Rd.          \n",
              "7  YouBike2.0_Ln. 340， Sec. 2， Fuxing S. Rd.          \n",
              "8  YouBike2.0_No. 52， Sec. 3， Xinsheng S. Rd.         \n",
              "9  YouBike2.0_No. 66， Sec. 3， Xinsheng S. Rd.         \n",
              "10 YouBike2.0_No. 82， Sec. 3， Xinsheng S. Rd.         \n",
              "   aren                                     bemp act srcUpdateTime      \n",
              "1  No.235， Sec. 2， Fuxing S. Rd.           1   1   2021-03-17 17:47:10\n",
              "2  No.273， Sec. 2， Fuxing S. Rd. (West)    0   1   2021-03-17 17:47:10\n",
              "3  No. 7， Ln. 96， Sec. 2， Heping E. Rd   11   1   2021-03-17 17:47:10\n",
              "4  No. 33， Ln. 118， Sec. 2， Heping E. Rd  6   1   2021-03-17 17:47:10\n",
              "5  No. 368， Sec. 2， Fuxing S. Rd.         15   1   2021-03-17 17:47:10\n",
              "6  No. 280， Sec. 2， Fuxing S. Rd.          0   1   2021-03-17 17:47:10\n",
              "7  No. 342， Sec. 2， Fuxing S. Rd.         10   1   2021-03-17 17:47:10\n",
              "8  No. 52， Sec. 3， Xinsheng S. Rd.        14   1   2021-03-17 17:47:10\n",
              "9  No. 66， Sec. 3， Xinsheng S. Rd. (East)  9   1   2021-03-17 17:47:10\n",
              "10 No. 82， Sec. 3， Xinsheng S. Rd.         2   1   2021-03-17 17:47:10\n",
              "   updateTime          infoTime            infoDate  \n",
              "1  2021-03-17 17:47:50 2021-03-17 17:47:05 2021-03-17\n",
              "2  2021-03-17 17:47:50 2021-03-17 17:47:05 2021-03-17\n",
              "3  2021-03-17 17:47:50 2021-03-17 17:47:05 2021-03-17\n",
              "4  2021-03-17 17:47:50 2021-03-17 17:47:05 2021-03-17\n",
              "5  2021-03-17 17:47:50 2021-03-17 17:47:05 2021-03-17\n",
              "6  2021-03-17 17:47:50 2021-03-17 17:47:05 2021-03-17\n",
              "7  2021-03-17 17:47:50 2021-03-17 17:47:05 2021-03-17\n",
              "8  2021-03-17 17:47:50 2021-03-17 17:47:05 2021-03-17\n",
              "9  2021-03-17 17:47:50 2021-03-17 17:47:05 2021-03-17\n",
              "10 2021-03-17 17:47:50 2021-03-17 17:47:05 2021-03-17"
            ],
            "text/latex": "A data.frame: 10 × 18\n\\begin{tabular}{r|llllllllllllllllll}\n  & sno & sna & tot & sbi & sarea & mday & lat & lng & ar & sareaen & snaen & aren & bemp & act & srcUpdateTime & updateTime & infoTime & infoDate\\\\\n  & <chr> & <chr> & <int> & <int> & <chr> & <chr> & <dbl> & <dbl> & <chr> & <chr> & <chr> & <chr> & <int> & <chr> & <chr> & <chr> & <chr> & <chr>\\\\\n\\hline\n\t1 & 500101001 & YouBike2.0\\_捷運科技大樓站      & 17 & 12 & 大安區 & 2021-03-17 17:47:05 & 25.02605 & 121.5436 & 復興南路二段235號前   & Daan Dist. & YouBike2.0\\_MRT Technology Bldg. Sta.                  & No.235， Sec. 2， Fuxing S. Rd.          &  1 & 1 & 2021-03-17 17:47:10 & 2021-03-17 17:47:50 & 2021-03-17 17:47:05 & 2021-03-17\\\\\n\t2 & 500101002 & YouBike2.0\\_復興南路二段273號前 & 15 & 15 & 大安區 & 2021-03-17 17:47:05 & 25.02565 & 121.5436 & 復興南路二段273號西側 & Daan Dist. & YouBike2.0\\_No.273， Sec. 2， Fuxing S. Rd.            & No.273， Sec. 2， Fuxing S. Rd. (West)   &  0 & 1 & 2021-03-17 17:47:10 & 2021-03-17 17:47:50 & 2021-03-17 17:47:05 & 2021-03-17\\\\\n\t3 & 500101003 & YouBike2.0\\_國北教大實小東側門  & 16 &  5 & 大安區 & 2021-03-17 17:47:05 & 25.02429 & 121.5412 & 和平東路二段96巷7號   & Daan Dist. & YouBike2.0\\_NTUE Experiment Elementary School (East)   & No. 7， Ln. 96， Sec. 2， Heping E. Rd   & 11 & 1 & 2021-03-17 17:47:10 & 2021-03-17 17:47:50 & 2021-03-17 17:47:05 & 2021-03-17\\\\\n\t4 & 500101004 & YouBike2.0\\_和平公園東側        & 11 &  5 & 大安區 & 2021-03-17 17:47:05 & 25.02351 & 121.5428 & 和平東路二段118巷33號 & Daan Dist. & YouBike2.0\\_Heping Park (East)                         & No. 33， Ln. 118， Sec. 2， Heping E. Rd &  6 & 1 & 2021-03-17 17:47:10 & 2021-03-17 17:47:50 & 2021-03-17 17:47:05 & 2021-03-17\\\\\n\t5 & 500101005 & YouBike2.0\\_辛亥復興路口西北側  & 16 &  1 & 大安區 & 2021-03-17 17:47:05 & 25.02153 & 121.5430 & 復興南路二段368號     & Daan Dist. & YouBike2.0\\_Xinhai Fuxing Rd. Intersection (Northwest) & No. 368， Sec. 2， Fuxing S. Rd.         & 15 & 1 & 2021-03-17 17:47:10 & 2021-03-17 17:47:50 & 2021-03-17 17:47:05 & 2021-03-17\\\\\n\t6 & 500101006 & YouBike2.0\\_復興南路二段280號前 & 11 & 11 & 大安區 & 2021-03-17 17:47:05 & 25.02429 & 121.5433 & 復興南路二段280號     & Daan Dist. & YouBike2.0\\_No. 280， Sec. 2， Fuxing S. Rd.           & No. 280， Sec. 2， Fuxing S. Rd.         &  0 & 1 & 2021-03-17 17:47:10 & 2021-03-17 17:47:50 & 2021-03-17 17:47:05 & 2021-03-17\\\\\n\t7 & 500101007 & YouBike2.0\\_復興南路二段340巷口 & 11 &  1 & 大安區 & 2021-03-17 17:47:05 & 25.02253 & 121.5433 & 復興南路二段342號     & Daan Dist. & YouBike2.0\\_Ln. 340， Sec. 2， Fuxing S. Rd.           & No. 342， Sec. 2， Fuxing S. Rd.         & 10 & 1 & 2021-03-17 17:47:10 & 2021-03-17 17:47:50 & 2021-03-17 17:47:05 & 2021-03-17\\\\\n\t8 & 500101008 & YouBike2.0\\_新生南路三段52號前  & 17 &  3 & 大安區 & 2021-03-17 17:47:05 & 25.02112 & 121.5341 & 新生南路三段52號      & Daan Dist. & YouBike2.0\\_No. 52， Sec. 3， Xinsheng S. Rd.          & No. 52， Sec. 3， Xinsheng S. Rd.        & 14 & 1 & 2021-03-17 17:47:10 & 2021-03-17 17:47:50 & 2021-03-17 17:47:05 & 2021-03-17\\\\\n\t9 & 500101009 & YouBike2.0\\_新生南路三段66號前  & 16 &  7 & 大安區 & 2021-03-17 17:47:05 & 25.01976 & 121.5338 & 新生南路三段66號東側  & Daan Dist. & YouBike2.0\\_No. 66， Sec. 3， Xinsheng S. Rd.          & No. 66， Sec. 3， Xinsheng S. Rd. (East) &  9 & 1 & 2021-03-17 17:47:10 & 2021-03-17 17:47:50 & 2021-03-17 17:47:05 & 2021-03-17\\\\\n\t10 & 500101010 & YouBike2.0\\_新生南路三段82號前  & 20 & 18 & 大安區 & 2021-03-17 17:47:05 & 25.01894 & 121.5336 & 新生南路三段82號      & Daan Dist. & YouBike2.0\\_No. 82， Sec. 3， Xinsheng S. Rd.          & No. 82， Sec. 3， Xinsheng S. Rd.        &  2 & 1 & 2021-03-17 17:47:10 & 2021-03-17 17:47:50 & 2021-03-17 17:47:05 & 2021-03-17\\\\\n\\end{tabular}\n",
            "text/markdown": "\nA data.frame: 10 × 18\n\n| <!--/--> | sno &lt;chr&gt; | sna &lt;chr&gt; | tot &lt;int&gt; | sbi &lt;int&gt; | sarea &lt;chr&gt; | mday &lt;chr&gt; | lat &lt;dbl&gt; | lng &lt;dbl&gt; | ar &lt;chr&gt; | sareaen &lt;chr&gt; | snaen &lt;chr&gt; | aren &lt;chr&gt; | bemp &lt;int&gt; | act &lt;chr&gt; | srcUpdateTime &lt;chr&gt; | updateTime &lt;chr&gt; | infoTime &lt;chr&gt; | infoDate &lt;chr&gt; |\n|---|---|---|---|---|---|---|---|---|---|---|---|---|---|---|---|---|---|---|\n| 1 | 500101001 | YouBike2.0_捷運科技大樓站      | 17 | 12 | 大安區 | 2021-03-17 17:47:05 | 25.02605 | 121.5436 | 復興南路二段235號前   | Daan Dist. | YouBike2.0_MRT Technology Bldg. Sta.                  | No.235， Sec. 2， Fuxing S. Rd.          |  1 | 1 | 2021-03-17 17:47:10 | 2021-03-17 17:47:50 | 2021-03-17 17:47:05 | 2021-03-17 |\n| 2 | 500101002 | YouBike2.0_復興南路二段273號前 | 15 | 15 | 大安區 | 2021-03-17 17:47:05 | 25.02565 | 121.5436 | 復興南路二段273號西側 | Daan Dist. | YouBike2.0_No.273， Sec. 2， Fuxing S. Rd.            | No.273， Sec. 2， Fuxing S. Rd. (West)   |  0 | 1 | 2021-03-17 17:47:10 | 2021-03-17 17:47:50 | 2021-03-17 17:47:05 | 2021-03-17 |\n| 3 | 500101003 | YouBike2.0_國北教大實小東側門  | 16 |  5 | 大安區 | 2021-03-17 17:47:05 | 25.02429 | 121.5412 | 和平東路二段96巷7號   | Daan Dist. | YouBike2.0_NTUE Experiment Elementary School (East)   | No. 7， Ln. 96， Sec. 2， Heping E. Rd   | 11 | 1 | 2021-03-17 17:47:10 | 2021-03-17 17:47:50 | 2021-03-17 17:47:05 | 2021-03-17 |\n| 4 | 500101004 | YouBike2.0_和平公園東側        | 11 |  5 | 大安區 | 2021-03-17 17:47:05 | 25.02351 | 121.5428 | 和平東路二段118巷33號 | Daan Dist. | YouBike2.0_Heping Park (East)                         | No. 33， Ln. 118， Sec. 2， Heping E. Rd |  6 | 1 | 2021-03-17 17:47:10 | 2021-03-17 17:47:50 | 2021-03-17 17:47:05 | 2021-03-17 |\n| 5 | 500101005 | YouBike2.0_辛亥復興路口西北側  | 16 |  1 | 大安區 | 2021-03-17 17:47:05 | 25.02153 | 121.5430 | 復興南路二段368號     | Daan Dist. | YouBike2.0_Xinhai Fuxing Rd. Intersection (Northwest) | No. 368， Sec. 2， Fuxing S. Rd.         | 15 | 1 | 2021-03-17 17:47:10 | 2021-03-17 17:47:50 | 2021-03-17 17:47:05 | 2021-03-17 |\n| 6 | 500101006 | YouBike2.0_復興南路二段280號前 | 11 | 11 | 大安區 | 2021-03-17 17:47:05 | 25.02429 | 121.5433 | 復興南路二段280號     | Daan Dist. | YouBike2.0_No. 280， Sec. 2， Fuxing S. Rd.           | No. 280， Sec. 2， Fuxing S. Rd.         |  0 | 1 | 2021-03-17 17:47:10 | 2021-03-17 17:47:50 | 2021-03-17 17:47:05 | 2021-03-17 |\n| 7 | 500101007 | YouBike2.0_復興南路二段340巷口 | 11 |  1 | 大安區 | 2021-03-17 17:47:05 | 25.02253 | 121.5433 | 復興南路二段342號     | Daan Dist. | YouBike2.0_Ln. 340， Sec. 2， Fuxing S. Rd.           | No. 342， Sec. 2， Fuxing S. Rd.         | 10 | 1 | 2021-03-17 17:47:10 | 2021-03-17 17:47:50 | 2021-03-17 17:47:05 | 2021-03-17 |\n| 8 | 500101008 | YouBike2.0_新生南路三段52號前  | 17 |  3 | 大安區 | 2021-03-17 17:47:05 | 25.02112 | 121.5341 | 新生南路三段52號      | Daan Dist. | YouBike2.0_No. 52， Sec. 3， Xinsheng S. Rd.          | No. 52， Sec. 3， Xinsheng S. Rd.        | 14 | 1 | 2021-03-17 17:47:10 | 2021-03-17 17:47:50 | 2021-03-17 17:47:05 | 2021-03-17 |\n| 9 | 500101009 | YouBike2.0_新生南路三段66號前  | 16 |  7 | 大安區 | 2021-03-17 17:47:05 | 25.01976 | 121.5338 | 新生南路三段66號東側  | Daan Dist. | YouBike2.0_No. 66， Sec. 3， Xinsheng S. Rd.          | No. 66， Sec. 3， Xinsheng S. Rd. (East) |  9 | 1 | 2021-03-17 17:47:10 | 2021-03-17 17:47:50 | 2021-03-17 17:47:05 | 2021-03-17 |\n| 10 | 500101010 | YouBike2.0_新生南路三段82號前  | 20 | 18 | 大安區 | 2021-03-17 17:47:05 | 25.01894 | 121.5336 | 新生南路三段82號      | Daan Dist. | YouBike2.0_No. 82， Sec. 3， Xinsheng S. Rd.          | No. 82， Sec. 3， Xinsheng S. Rd.        |  2 | 1 | 2021-03-17 17:47:10 | 2021-03-17 17:47:50 | 2021-03-17 17:47:05 | 2021-03-17 |\n\n",
            "text/html": [
              "<table class=\"dataframe\">\n",
              "<caption>A data.frame: 10 × 18</caption>\n",
              "<thead>\n",
              "\t<tr><th></th><th scope=col>sno</th><th scope=col>sna</th><th scope=col>tot</th><th scope=col>sbi</th><th scope=col>sarea</th><th scope=col>mday</th><th scope=col>lat</th><th scope=col>lng</th><th scope=col>ar</th><th scope=col>sareaen</th><th scope=col>snaen</th><th scope=col>aren</th><th scope=col>bemp</th><th scope=col>act</th><th scope=col>srcUpdateTime</th><th scope=col>updateTime</th><th scope=col>infoTime</th><th scope=col>infoDate</th></tr>\n",
              "\t<tr><th></th><th scope=col>&lt;chr&gt;</th><th scope=col>&lt;chr&gt;</th><th scope=col>&lt;int&gt;</th><th scope=col>&lt;int&gt;</th><th scope=col>&lt;chr&gt;</th><th scope=col>&lt;chr&gt;</th><th scope=col>&lt;dbl&gt;</th><th scope=col>&lt;dbl&gt;</th><th scope=col>&lt;chr&gt;</th><th scope=col>&lt;chr&gt;</th><th scope=col>&lt;chr&gt;</th><th scope=col>&lt;chr&gt;</th><th scope=col>&lt;int&gt;</th><th scope=col>&lt;chr&gt;</th><th scope=col>&lt;chr&gt;</th><th scope=col>&lt;chr&gt;</th><th scope=col>&lt;chr&gt;</th><th scope=col>&lt;chr&gt;</th></tr>\n",
              "</thead>\n",
              "<tbody>\n",
              "\t<tr><th scope=row>1</th><td>500101001</td><td>YouBike2.0_捷運科技大樓站     </td><td>17</td><td>12</td><td>大安區</td><td>2021-03-17 17:47:05</td><td>25.02605</td><td>121.5436</td><td>復興南路二段235號前  </td><td>Daan Dist.</td><td>YouBike2.0_MRT Technology Bldg. Sta.                 </td><td>No.235， Sec. 2， Fuxing S. Rd.         </td><td> 1</td><td>1</td><td>2021-03-17 17:47:10</td><td>2021-03-17 17:47:50</td><td>2021-03-17 17:47:05</td><td>2021-03-17</td></tr>\n",
              "\t<tr><th scope=row>2</th><td>500101002</td><td>YouBike2.0_復興南路二段273號前</td><td>15</td><td>15</td><td>大安區</td><td>2021-03-17 17:47:05</td><td>25.02565</td><td>121.5436</td><td>復興南路二段273號西側</td><td>Daan Dist.</td><td>YouBike2.0_No.273， Sec. 2， Fuxing S. Rd.           </td><td>No.273， Sec. 2， Fuxing S. Rd. (West)  </td><td> 0</td><td>1</td><td>2021-03-17 17:47:10</td><td>2021-03-17 17:47:50</td><td>2021-03-17 17:47:05</td><td>2021-03-17</td></tr>\n",
              "\t<tr><th scope=row>3</th><td>500101003</td><td>YouBike2.0_國北教大實小東側門 </td><td>16</td><td> 5</td><td>大安區</td><td>2021-03-17 17:47:05</td><td>25.02429</td><td>121.5412</td><td>和平東路二段96巷7號  </td><td>Daan Dist.</td><td>YouBike2.0_NTUE Experiment Elementary School (East)  </td><td>No. 7， Ln. 96， Sec. 2， Heping E. Rd  </td><td>11</td><td>1</td><td>2021-03-17 17:47:10</td><td>2021-03-17 17:47:50</td><td>2021-03-17 17:47:05</td><td>2021-03-17</td></tr>\n",
              "\t<tr><th scope=row>4</th><td>500101004</td><td>YouBike2.0_和平公園東側       </td><td>11</td><td> 5</td><td>大安區</td><td>2021-03-17 17:47:05</td><td>25.02351</td><td>121.5428</td><td>和平東路二段118巷33號</td><td>Daan Dist.</td><td>YouBike2.0_Heping Park (East)                        </td><td>No. 33， Ln. 118， Sec. 2， Heping E. Rd</td><td> 6</td><td>1</td><td>2021-03-17 17:47:10</td><td>2021-03-17 17:47:50</td><td>2021-03-17 17:47:05</td><td>2021-03-17</td></tr>\n",
              "\t<tr><th scope=row>5</th><td>500101005</td><td>YouBike2.0_辛亥復興路口西北側 </td><td>16</td><td> 1</td><td>大安區</td><td>2021-03-17 17:47:05</td><td>25.02153</td><td>121.5430</td><td>復興南路二段368號    </td><td>Daan Dist.</td><td>YouBike2.0_Xinhai Fuxing Rd. Intersection (Northwest)</td><td>No. 368， Sec. 2， Fuxing S. Rd.        </td><td>15</td><td>1</td><td>2021-03-17 17:47:10</td><td>2021-03-17 17:47:50</td><td>2021-03-17 17:47:05</td><td>2021-03-17</td></tr>\n",
              "\t<tr><th scope=row>6</th><td>500101006</td><td>YouBike2.0_復興南路二段280號前</td><td>11</td><td>11</td><td>大安區</td><td>2021-03-17 17:47:05</td><td>25.02429</td><td>121.5433</td><td>復興南路二段280號    </td><td>Daan Dist.</td><td>YouBike2.0_No. 280， Sec. 2， Fuxing S. Rd.          </td><td>No. 280， Sec. 2， Fuxing S. Rd.        </td><td> 0</td><td>1</td><td>2021-03-17 17:47:10</td><td>2021-03-17 17:47:50</td><td>2021-03-17 17:47:05</td><td>2021-03-17</td></tr>\n",
              "\t<tr><th scope=row>7</th><td>500101007</td><td>YouBike2.0_復興南路二段340巷口</td><td>11</td><td> 1</td><td>大安區</td><td>2021-03-17 17:47:05</td><td>25.02253</td><td>121.5433</td><td>復興南路二段342號    </td><td>Daan Dist.</td><td>YouBike2.0_Ln. 340， Sec. 2， Fuxing S. Rd.          </td><td>No. 342， Sec. 2， Fuxing S. Rd.        </td><td>10</td><td>1</td><td>2021-03-17 17:47:10</td><td>2021-03-17 17:47:50</td><td>2021-03-17 17:47:05</td><td>2021-03-17</td></tr>\n",
              "\t<tr><th scope=row>8</th><td>500101008</td><td>YouBike2.0_新生南路三段52號前 </td><td>17</td><td> 3</td><td>大安區</td><td>2021-03-17 17:47:05</td><td>25.02112</td><td>121.5341</td><td>新生南路三段52號     </td><td>Daan Dist.</td><td>YouBike2.0_No. 52， Sec. 3， Xinsheng S. Rd.         </td><td>No. 52， Sec. 3， Xinsheng S. Rd.       </td><td>14</td><td>1</td><td>2021-03-17 17:47:10</td><td>2021-03-17 17:47:50</td><td>2021-03-17 17:47:05</td><td>2021-03-17</td></tr>\n",
              "\t<tr><th scope=row>9</th><td>500101009</td><td>YouBike2.0_新生南路三段66號前 </td><td>16</td><td> 7</td><td>大安區</td><td>2021-03-17 17:47:05</td><td>25.01976</td><td>121.5338</td><td>新生南路三段66號東側 </td><td>Daan Dist.</td><td>YouBike2.0_No. 66， Sec. 3， Xinsheng S. Rd.         </td><td>No. 66， Sec. 3， Xinsheng S. Rd. (East)</td><td> 9</td><td>1</td><td>2021-03-17 17:47:10</td><td>2021-03-17 17:47:50</td><td>2021-03-17 17:47:05</td><td>2021-03-17</td></tr>\n",
              "\t<tr><th scope=row>10</th><td>500101010</td><td>YouBike2.0_新生南路三段82號前 </td><td>20</td><td>18</td><td>大安區</td><td>2021-03-17 17:47:05</td><td>25.01894</td><td>121.5336</td><td>新生南路三段82號     </td><td>Daan Dist.</td><td>YouBike2.0_No. 82， Sec. 3， Xinsheng S. Rd.         </td><td>No. 82， Sec. 3， Xinsheng S. Rd.       </td><td> 2</td><td>1</td><td>2021-03-17 17:47:10</td><td>2021-03-17 17:47:50</td><td>2021-03-17 17:47:05</td><td>2021-03-17</td></tr>\n",
              "</tbody>\n",
              "</table>\n"
            ]
          },
          "metadata": {
            "tags": []
          }
        }
      ]
    },
    {
      "cell_type": "code",
      "metadata": {
        "colab": {
          "base_uri": "https://localhost:8080/",
          "height": 459
        },
        "id": "FczFEP10mFTy",
        "outputId": "26798d09-36eb-4eee-ee76-42f7a95379d5"
      },
      "source": [
        "tail(Youbike , n=5)"
      ],
      "execution_count": 54,
      "outputs": [
        {
          "output_type": "display_data",
          "data": {
            "text/plain": [
              "    sno       sna                           tot sbi sarea   \n",
              "99  500119086 YouBike2.0_臺大圖資系館北側   10  0   臺大專區\n",
              "100 500119087 YouBike2.0_臺大總圖書館西南側 30  0   臺大專區\n",
              "101 500119088 YouBike2.0_臺大黑森林西側     20  0   臺大專區\n",
              "102 500119089 YouBike2.0_臺大獸醫館南側     10  0   臺大專區\n",
              "103 500119090 YouBike2.0_臺大新體育館東南側 40  5   臺大專區\n",
              "    mday                lat      lng      ar                 sareaen \n",
              "99  2021-03-17 17:47:06 25.01804 121.5393 臺大圖書資訊館北側 NTU Dist\n",
              "100 2021-03-17 17:47:06 25.01690 121.5403 臺大圖書館西南側   NTU Dist\n",
              "101 2021-03-17 17:47:06 25.01995 121.5435 臺大霖澤館南側     NTU Dist\n",
              "102 2021-03-17 17:47:06 25.01791 121.5424 臺大獸醫系館南側   NTU Dist\n",
              "103 2021-03-17 17:47:06 25.02112 121.5359 臺大體育館東側     NTU Dist\n",
              "    snaen                                                          \n",
              "99  YouBike2.0_NTU Dept. of Library and Information Sciences(North)\n",
              "100 YouBike2.0_NTU Main Library(Southwest)                         \n",
              "101 YouBike2.0_NTU Black Forest(West)                              \n",
              "102 YouBike2.0_NTU Dept. of Veterinary Medicine(South)             \n",
              "103 YouBike2.0_NTU Sports Center(Southeast)                        \n",
              "    aren                                                 bemp act\n",
              "99  NTU Dept. of Library and Information Sciences(North) 10   1  \n",
              "100 NTU Main Library(Southwest)                          30   1  \n",
              "101 NTU Tsai Lecture Hall(South)                         20   1  \n",
              "102 NTU Dept. of Veterinary Medicine(South)              10   1  \n",
              "103 NTU Sports Center(East)                              35   1  \n",
              "    srcUpdateTime       updateTime          infoTime            infoDate  \n",
              "99  2021-03-17 17:47:10 2021-03-17 17:47:50 2021-03-17 17:47:06 2021-03-17\n",
              "100 2021-03-17 17:47:10 2021-03-17 17:47:50 2021-03-17 17:47:06 2021-03-17\n",
              "101 2021-03-17 17:47:10 2021-03-17 17:47:50 2021-03-17 17:47:06 2021-03-17\n",
              "102 2021-03-17 17:47:10 2021-03-17 17:47:50 2021-03-17 17:47:06 2021-03-17\n",
              "103 2021-03-17 17:47:10 2021-03-17 17:47:50 2021-03-17 17:47:06 2021-03-17"
            ],
            "text/latex": "A data.frame: 5 × 18\n\\begin{tabular}{r|llllllllllllllllll}\n  & sno & sna & tot & sbi & sarea & mday & lat & lng & ar & sareaen & snaen & aren & bemp & act & srcUpdateTime & updateTime & infoTime & infoDate\\\\\n  & <chr> & <chr> & <int> & <int> & <chr> & <chr> & <dbl> & <dbl> & <chr> & <chr> & <chr> & <chr> & <int> & <chr> & <chr> & <chr> & <chr> & <chr>\\\\\n\\hline\n\t99 & 500119086 & YouBike2.0\\_臺大圖資系館北側   & 10 & 0 & 臺大專區 & 2021-03-17 17:47:06 & 25.01804 & 121.5393 & 臺大圖書資訊館北側 & NTU Dist & YouBike2.0\\_NTU Dept. of Library and Information Sciences(North) & NTU Dept. of Library and Information Sciences(North) & 10 & 1 & 2021-03-17 17:47:10 & 2021-03-17 17:47:50 & 2021-03-17 17:47:06 & 2021-03-17\\\\\n\t100 & 500119087 & YouBike2.0\\_臺大總圖書館西南側 & 30 & 0 & 臺大專區 & 2021-03-17 17:47:06 & 25.01690 & 121.5403 & 臺大圖書館西南側   & NTU Dist & YouBike2.0\\_NTU Main Library(Southwest)                          & NTU Main Library(Southwest)                          & 30 & 1 & 2021-03-17 17:47:10 & 2021-03-17 17:47:50 & 2021-03-17 17:47:06 & 2021-03-17\\\\\n\t101 & 500119088 & YouBike2.0\\_臺大黑森林西側     & 20 & 0 & 臺大專區 & 2021-03-17 17:47:06 & 25.01995 & 121.5435 & 臺大霖澤館南側     & NTU Dist & YouBike2.0\\_NTU Black Forest(West)                               & NTU Tsai Lecture Hall(South)                         & 20 & 1 & 2021-03-17 17:47:10 & 2021-03-17 17:47:50 & 2021-03-17 17:47:06 & 2021-03-17\\\\\n\t102 & 500119089 & YouBike2.0\\_臺大獸醫館南側     & 10 & 0 & 臺大專區 & 2021-03-17 17:47:06 & 25.01791 & 121.5424 & 臺大獸醫系館南側   & NTU Dist & YouBike2.0\\_NTU Dept. of Veterinary Medicine(South)              & NTU Dept. of Veterinary Medicine(South)              & 10 & 1 & 2021-03-17 17:47:10 & 2021-03-17 17:47:50 & 2021-03-17 17:47:06 & 2021-03-17\\\\\n\t103 & 500119090 & YouBike2.0\\_臺大新體育館東南側 & 40 & 5 & 臺大專區 & 2021-03-17 17:47:06 & 25.02112 & 121.5359 & 臺大體育館東側     & NTU Dist & YouBike2.0\\_NTU Sports Center(Southeast)                         & NTU Sports Center(East)                              & 35 & 1 & 2021-03-17 17:47:10 & 2021-03-17 17:47:50 & 2021-03-17 17:47:06 & 2021-03-17\\\\\n\\end{tabular}\n",
            "text/markdown": "\nA data.frame: 5 × 18\n\n| <!--/--> | sno &lt;chr&gt; | sna &lt;chr&gt; | tot &lt;int&gt; | sbi &lt;int&gt; | sarea &lt;chr&gt; | mday &lt;chr&gt; | lat &lt;dbl&gt; | lng &lt;dbl&gt; | ar &lt;chr&gt; | sareaen &lt;chr&gt; | snaen &lt;chr&gt; | aren &lt;chr&gt; | bemp &lt;int&gt; | act &lt;chr&gt; | srcUpdateTime &lt;chr&gt; | updateTime &lt;chr&gt; | infoTime &lt;chr&gt; | infoDate &lt;chr&gt; |\n|---|---|---|---|---|---|---|---|---|---|---|---|---|---|---|---|---|---|---|\n| 99 | 500119086 | YouBike2.0_臺大圖資系館北側   | 10 | 0 | 臺大專區 | 2021-03-17 17:47:06 | 25.01804 | 121.5393 | 臺大圖書資訊館北側 | NTU Dist | YouBike2.0_NTU Dept. of Library and Information Sciences(North) | NTU Dept. of Library and Information Sciences(North) | 10 | 1 | 2021-03-17 17:47:10 | 2021-03-17 17:47:50 | 2021-03-17 17:47:06 | 2021-03-17 |\n| 100 | 500119087 | YouBike2.0_臺大總圖書館西南側 | 30 | 0 | 臺大專區 | 2021-03-17 17:47:06 | 25.01690 | 121.5403 | 臺大圖書館西南側   | NTU Dist | YouBike2.0_NTU Main Library(Southwest)                          | NTU Main Library(Southwest)                          | 30 | 1 | 2021-03-17 17:47:10 | 2021-03-17 17:47:50 | 2021-03-17 17:47:06 | 2021-03-17 |\n| 101 | 500119088 | YouBike2.0_臺大黑森林西側     | 20 | 0 | 臺大專區 | 2021-03-17 17:47:06 | 25.01995 | 121.5435 | 臺大霖澤館南側     | NTU Dist | YouBike2.0_NTU Black Forest(West)                               | NTU Tsai Lecture Hall(South)                         | 20 | 1 | 2021-03-17 17:47:10 | 2021-03-17 17:47:50 | 2021-03-17 17:47:06 | 2021-03-17 |\n| 102 | 500119089 | YouBike2.0_臺大獸醫館南側     | 10 | 0 | 臺大專區 | 2021-03-17 17:47:06 | 25.01791 | 121.5424 | 臺大獸醫系館南側   | NTU Dist | YouBike2.0_NTU Dept. of Veterinary Medicine(South)              | NTU Dept. of Veterinary Medicine(South)              | 10 | 1 | 2021-03-17 17:47:10 | 2021-03-17 17:47:50 | 2021-03-17 17:47:06 | 2021-03-17 |\n| 103 | 500119090 | YouBike2.0_臺大新體育館東南側 | 40 | 5 | 臺大專區 | 2021-03-17 17:47:06 | 25.02112 | 121.5359 | 臺大體育館東側     | NTU Dist | YouBike2.0_NTU Sports Center(Southeast)                         | NTU Sports Center(East)                              | 35 | 1 | 2021-03-17 17:47:10 | 2021-03-17 17:47:50 | 2021-03-17 17:47:06 | 2021-03-17 |\n\n",
            "text/html": [
              "<table class=\"dataframe\">\n",
              "<caption>A data.frame: 5 × 18</caption>\n",
              "<thead>\n",
              "\t<tr><th></th><th scope=col>sno</th><th scope=col>sna</th><th scope=col>tot</th><th scope=col>sbi</th><th scope=col>sarea</th><th scope=col>mday</th><th scope=col>lat</th><th scope=col>lng</th><th scope=col>ar</th><th scope=col>sareaen</th><th scope=col>snaen</th><th scope=col>aren</th><th scope=col>bemp</th><th scope=col>act</th><th scope=col>srcUpdateTime</th><th scope=col>updateTime</th><th scope=col>infoTime</th><th scope=col>infoDate</th></tr>\n",
              "\t<tr><th></th><th scope=col>&lt;chr&gt;</th><th scope=col>&lt;chr&gt;</th><th scope=col>&lt;int&gt;</th><th scope=col>&lt;int&gt;</th><th scope=col>&lt;chr&gt;</th><th scope=col>&lt;chr&gt;</th><th scope=col>&lt;dbl&gt;</th><th scope=col>&lt;dbl&gt;</th><th scope=col>&lt;chr&gt;</th><th scope=col>&lt;chr&gt;</th><th scope=col>&lt;chr&gt;</th><th scope=col>&lt;chr&gt;</th><th scope=col>&lt;int&gt;</th><th scope=col>&lt;chr&gt;</th><th scope=col>&lt;chr&gt;</th><th scope=col>&lt;chr&gt;</th><th scope=col>&lt;chr&gt;</th><th scope=col>&lt;chr&gt;</th></tr>\n",
              "</thead>\n",
              "<tbody>\n",
              "\t<tr><th scope=row>99</th><td>500119086</td><td>YouBike2.0_臺大圖資系館北側  </td><td>10</td><td>0</td><td>臺大專區</td><td>2021-03-17 17:47:06</td><td>25.01804</td><td>121.5393</td><td>臺大圖書資訊館北側</td><td>NTU Dist</td><td>YouBike2.0_NTU Dept. of Library and Information Sciences(North)</td><td>NTU Dept. of Library and Information Sciences(North)</td><td>10</td><td>1</td><td>2021-03-17 17:47:10</td><td>2021-03-17 17:47:50</td><td>2021-03-17 17:47:06</td><td>2021-03-17</td></tr>\n",
              "\t<tr><th scope=row>100</th><td>500119087</td><td>YouBike2.0_臺大總圖書館西南側</td><td>30</td><td>0</td><td>臺大專區</td><td>2021-03-17 17:47:06</td><td>25.01690</td><td>121.5403</td><td>臺大圖書館西南側  </td><td>NTU Dist</td><td>YouBike2.0_NTU Main Library(Southwest)                         </td><td>NTU Main Library(Southwest)                         </td><td>30</td><td>1</td><td>2021-03-17 17:47:10</td><td>2021-03-17 17:47:50</td><td>2021-03-17 17:47:06</td><td>2021-03-17</td></tr>\n",
              "\t<tr><th scope=row>101</th><td>500119088</td><td>YouBike2.0_臺大黑森林西側    </td><td>20</td><td>0</td><td>臺大專區</td><td>2021-03-17 17:47:06</td><td>25.01995</td><td>121.5435</td><td>臺大霖澤館南側    </td><td>NTU Dist</td><td>YouBike2.0_NTU Black Forest(West)                              </td><td>NTU Tsai Lecture Hall(South)                        </td><td>20</td><td>1</td><td>2021-03-17 17:47:10</td><td>2021-03-17 17:47:50</td><td>2021-03-17 17:47:06</td><td>2021-03-17</td></tr>\n",
              "\t<tr><th scope=row>102</th><td>500119089</td><td>YouBike2.0_臺大獸醫館南側    </td><td>10</td><td>0</td><td>臺大專區</td><td>2021-03-17 17:47:06</td><td>25.01791</td><td>121.5424</td><td>臺大獸醫系館南側  </td><td>NTU Dist</td><td>YouBike2.0_NTU Dept. of Veterinary Medicine(South)             </td><td>NTU Dept. of Veterinary Medicine(South)             </td><td>10</td><td>1</td><td>2021-03-17 17:47:10</td><td>2021-03-17 17:47:50</td><td>2021-03-17 17:47:06</td><td>2021-03-17</td></tr>\n",
              "\t<tr><th scope=row>103</th><td>500119090</td><td>YouBike2.0_臺大新體育館東南側</td><td>40</td><td>5</td><td>臺大專區</td><td>2021-03-17 17:47:06</td><td>25.02112</td><td>121.5359</td><td>臺大體育館東側    </td><td>NTU Dist</td><td>YouBike2.0_NTU Sports Center(Southeast)                        </td><td>NTU Sports Center(East)                             </td><td>35</td><td>1</td><td>2021-03-17 17:47:10</td><td>2021-03-17 17:47:50</td><td>2021-03-17 17:47:06</td><td>2021-03-17</td></tr>\n",
              "</tbody>\n",
              "</table>\n"
            ]
          },
          "metadata": {
            "tags": []
          }
        }
      ]
    },
    {
      "cell_type": "code",
      "metadata": {
        "colab": {
          "base_uri": "https://localhost:8080/",
          "height": 68
        },
        "id": "iTqGXyBYmJ8U",
        "outputId": "86a25b35-d1b5-424e-9f51-9ffb9bab3a88"
      },
      "source": [
        "table(Youbike$sarea)"
      ],
      "execution_count": 58,
      "outputs": [
        {
          "output_type": "display_data",
          "data": {
            "text/plain": [
              "\n",
              "  中正區   大安區 臺大專區 \n",
              "       4       46       53 "
            ]
          },
          "metadata": {
            "tags": []
          }
        }
      ]
    },
    {
      "cell_type": "code",
      "metadata": {
        "colab": {
          "base_uri": "https://localhost:8080/",
          "height": 68
        },
        "id": "OcOykCZ8meRm",
        "outputId": "e08ef155-876e-466d-f801-5b94fcd30b4e"
      },
      "source": [
        "table(Youbike$infoTime)"
      ],
      "execution_count": 59,
      "outputs": [
        {
          "output_type": "display_data",
          "data": {
            "text/plain": [
              "\n",
              "2021-03-17 17:47:05 2021-03-17 17:47:06 \n",
              "                 90                  13 "
            ]
          },
          "metadata": {
            "tags": []
          }
        }
      ]
    },
    {
      "cell_type": "code",
      "metadata": {
        "colab": {
          "base_uri": "https://localhost:8080/",
          "height": 1000
        },
        "id": "EIwd21tsmpmH",
        "outputId": "18aa33df-f3cb-4b4c-810a-c9637f8022bf"
      },
      "source": [
        "table(Youbike$sna)"
      ],
      "execution_count": 61,
      "outputs": [
        {
          "output_type": "display_data",
          "data": {
            "text/plain": [
              "\n",
              "              YouBike2.0_公館公園           YouBike2.0_和平公園東側 \n",
              "                                1                                 1 \n",
              "        YouBike2.0_和平實小東北側     YouBike2.0_和平復興路口西北側 \n",
              "                                1                                 1 \n",
              "          YouBike2.0_和平臥龍街口       YouBike2.0_國北教大側門南側 \n",
              "                                1                                 1 \n",
              "    YouBike2.0_國北教大實小東側門       YouBike2.0_基隆長興路口東側 \n",
              "                                1                                 1 \n",
              "    YouBike2.0_大安區健康服務中心     YouBike2.0_大安運動中心停車場 \n",
              "                                1                                 1 \n",
              "   YouBike2.0_復興南路二段273號前    YouBike2.0_復興南路二段280號前 \n",
              "                                1                                 1 \n",
              "   YouBike2.0_復興南路二段340巷口    YouBike2.0_捷運公館站(1號出口) \n",
              "                                1                                 1 \n",
              "   YouBike2.0_捷運公館站(2號出口)    YouBike2.0_捷運公館站(4號出口) \n",
              "                                1                                 1 \n",
              "        YouBike2.0_捷運科技大樓站     YouBike2.0_新生南路三段52號前 \n",
              "                                1                                 1 \n",
              "    YouBike2.0_新生南路三段66號前     YouBike2.0_新生南路三段82號前 \n",
              "                                1                                 1 \n",
              "    YouBike2.0_汀州思源街口東南側             YouBike2.0_溫州停車場 \n",
              "                                1                                 1 \n",
              "              YouBike2.0_溫州公園       YouBike2.0_第二學生活動中心 \n",
              "                                1                                 1 \n",
              "   YouBike2.0_羅斯福路三段245號前 YouBike2.0_羅斯福路三段269巷5號前 \n",
              "                                1                                 1 \n",
              "   YouBike2.0_羅斯福路三段311號前 YouBike2.0_羅斯福路三段333巷9號旁 \n",
              "                                1                                 1 \n",
              "      YouBike2.0_臺北自來水事業處             YouBike2.0_臺大一號館 \n",
              "                                1                                 1 \n",
              "            YouBike2.0_臺大二號館         YouBike2.0_臺大五號館西側 \n",
              "                                1                                 1 \n",
              "      YouBike2.0_臺大仰萃樓東南側   YouBike2.0_臺大公館停車場西北側 \n",
              "                                1                                 1 \n",
              "      YouBike2.0_臺大共同教室北側     YouBike2.0_臺大共同教室東南側 \n",
              "                                1                                 1 \n",
              "        YouBike2.0_臺大凝態館南側         YouBike2.0_臺大動物醫院前 \n",
              "                                1                                 1 \n",
              "      YouBike2.0_臺大卓越研究大樓         YouBike2.0_臺大博理館西側 \n",
              "                                1                                 1 \n",
              "        YouBike2.0_臺大博雅館西側         YouBike2.0_臺大原分所北側 \n",
              "                                1                                 1 \n",
              "      YouBike2.0_臺大四號館東北側     YouBike2.0_臺大國青大樓宿舍前 \n",
              "                                1                                 1 \n",
              "      YouBike2.0_臺大圖資系館北側     YouBike2.0_臺大土木研究大樓前 \n",
              "                                1                                 1 \n",
              "          YouBike2.0_臺大土木系館       YouBike2.0_臺大大一女舍北側 \n",
              "                                1                                 1 \n",
              "    YouBike2.0_臺大天文數學館南側       YouBike2.0_臺大女九舍西南側 \n",
              "                                1                                 1 \n",
              "      YouBike2.0_臺大小小福西南側         YouBike2.0_臺大小福樓東側 \n",
              "                                1                                 1 \n",
              "        YouBike2.0_臺大工綜館南側       YouBike2.0_臺大心理系館南側 \n",
              "                                1                                 1 \n",
              "      YouBike2.0_臺大思亮館東南側         YouBike2.0_臺大教研館北側 \n",
              "                                1                                 1 \n",
              "      YouBike2.0_臺大新生教室南側     YouBike2.0_臺大新體育館東南側 \n",
              "                                1                                 1 \n",
              "  YouBike2.0_臺大明達館機車停車場         YouBike2.0_臺大校史館南側 \n",
              "                                1                                 1 \n",
              "        YouBike2.0_臺大森林館北側           YouBike2.0_臺大椰林小舖 \n",
              "                                1                                 1 \n",
              "        YouBike2.0_臺大樂學館東側         YouBike2.0_臺大檔案展示館 \n",
              "                                1                                 1 \n",
              "      YouBike2.0_臺大水源修齊會館        YouBike2.0_臺大水源舍區A棟 \n",
              "                                1                                 1 \n",
              "       YouBike2.0_臺大水源舍區B棟     YouBike2.0_臺大永齡生醫工程館 \n",
              "                                1                                 1 \n",
              "YouBike2.0_臺大法人語言訓練中心前         YouBike2.0_臺大獸醫館南側 \n",
              "                                1                                 1 \n",
              "          YouBike2.0_臺大環研大樓   YouBike2.0_臺大生命科學館西北側 \n",
              "                                1                                 1 \n",
              "          YouBike2.0_臺大男一舍前           YouBike2.0_臺大男七舍前 \n",
              "                                1                                 1 \n",
              "        YouBike2.0_臺大男八舍東側           YouBike2.0_臺大男六舍前 \n",
              "                                1                                 1 \n",
              "      YouBike2.0_臺大社會系館南側     YouBike2.0_臺大社科院圖書館前 \n",
              "                                1                                 1 \n",
              "        YouBike2.0_臺大社科院西側           YouBike2.0_臺大萬才館前 \n",
              "                                1                                 1 \n",
              "    YouBike2.0_臺大立體機車停車場 YouBike2.0_臺大第一活動中心西南側 \n",
              "                                1                                 1 \n",
              "  YouBike2.0_臺大第二行政大樓南側   YouBike2.0_臺大管理學院二館北側 \n",
              "                                1                                 1 \n",
              "YouBike2.0_臺大綜合體育館停車場前     YouBike2.0_臺大總圖書館西南側 \n",
              "                                1                                 1 \n",
              "      YouBike2.0_臺大舊體育館西側       YouBike2.0_臺大計資中心南側 \n",
              "                                1                                 1 \n",
              "      YouBike2.0_臺大農化新館西側     YouBike2.0_臺大農業陳列館北側 \n",
              "                                1                                 1 \n",
              "        YouBike2.0_臺大鄭江樓北側 YouBike2.0_臺大醫學院附設癌醫中心 \n",
              "                                1                                 1 \n",
              "    YouBike2.0_臺大電機二館東南側         YouBike2.0_臺大鹿鳴堂東側 \n",
              "                                1                                 1 \n",
              "        YouBike2.0_臺大黑森林西側       YouBike2.0_臺灣科技大學側門 \n",
              "                                1                                 1 \n",
              "      YouBike2.0_臺灣科技大學後門       YouBike2.0_臺灣科技大學正門 \n",
              "                                1                                 1 \n",
              "    YouBike2.0_辛亥復興路口西北側     YouBike2.0_辛亥新生路口東南側 \n",
              "                                1                                 1 \n",
              "          YouBike2.0_辛亥泰順街口       YouBike2.0_辛亥路一段30號前 \n",
              "                                1                                 1 \n",
              "          YouBike2.0_銘傳國小側門 \n",
              "                                1 "
            ]
          },
          "metadata": {
            "tags": []
          }
        }
      ]
    },
    {
      "cell_type": "code",
      "metadata": {
        "colab": {
          "base_uri": "https://localhost:8080/",
          "height": 1000
        },
        "id": "PC4xcI9rm3LE",
        "outputId": "b1ac6cb6-8230-41c6-9a3d-2b750f3eb58b"
      },
      "source": [
        "table(Youbike$ar)"
      ],
      "execution_count": 62,
      "outputs": [
        {
          "output_type": "display_data",
          "data": {
            "text/plain": [
              "\n",
              "                           和平東路二段118巷33號 \n",
              "                                               1 \n",
              "                             和平東路二段96巷7號 \n",
              "                                               1 \n",
              "                基隆路三段/基隆路三段156巷口北側 \n",
              "                                               1 \n",
              "                    基隆路三段155巷/基隆路四段口 \n",
              "                                               1 \n",
              "                         基隆路三段155巷57號西側 \n",
              "                                               1 \n",
              "                基隆路四段41巷68弄臺科帆船大樓旁 \n",
              "                                               1 \n",
              "基隆路四段43號(臺灣科技大學正門旁小側門靠田徑場) \n",
              "                                               1 \n",
              "                        基隆路四段73巷與基隆路口 \n",
              "                                               1 \n",
              "                                基隆長興路口東側 \n",
              "                                               1 \n",
              "                                大安區長興街31號 \n",
              "                                               1 \n",
              "                             復興南路二段235號前 \n",
              "                                               1 \n",
              "                               復興南路二段236號 \n",
              "                                               1 \n",
              "                           復興南路二段273號西側 \n",
              "                                               1 \n",
              "                               復興南路二段280號 \n",
              "                                               1 \n",
              "                               復興南路二段342號 \n",
              "                                               1 \n",
              "                               復興南路二段368號 \n",
              "                                               1 \n",
              "                                 思源街16號之1旁 \n",
              "                                               1 \n",
              "                                   思源街1號東側 \n",
              "                                               1 \n",
              "                         捷運公館站(2號出口)外側 \n",
              "                                               1 \n",
              "                                      敦南街51號 \n",
              "                                               1 \n",
              "                                      敦南街73號 \n",
              "                                               1 \n",
              "                                  敦南街76巷28號 \n",
              "                                               1 \n",
              "                                新生南路三段52號 \n",
              "                                               1 \n",
              "                       新生南路三段54巷/溫州街口 \n",
              "                                               1 \n",
              "                            新生南路三段66號東側 \n",
              "                                               1 \n",
              "                                新生南路三段82號 \n",
              "                                               1 \n",
              "                        汀州路三段思源街口東南側 \n",
              "                                               1 \n",
              "                  汀洲路三段60巷2弄路側(A舍北側) \n",
              "                                               1 \n",
              "                  汀洲路三段60巷2弄路側(B舍北側) \n",
              "                                               1 \n",
              "                          第一學生活動中心東南側 \n",
              "                                               1 \n",
              "                              管理學院二號館北側 \n",
              "                                               1 \n",
              "                               羅斯福路三段245號 \n",
              "                                               1 \n",
              "                            羅斯福路三段269巷5號 \n",
              "                                               1 \n",
              "                           羅斯福路三段283巷11號 \n",
              "                                               1 \n",
              "                               羅斯福路三段311號 \n",
              "                                               1 \n",
              "                            羅斯福路三段333巷9號 \n",
              "                                               1 \n",
              "                       羅斯福路四段107號(西南側) \n",
              "                                               1 \n",
              "               羅斯福路四段113巷基隆路四段41巷口 \n",
              "                                               1 \n",
              "                        羅斯福路四段21號旁天橋下 \n",
              "                                               1 \n",
              "                                羅斯福路四段48號 \n",
              "                                               1 \n",
              "                                羅斯福路四段68號 \n",
              "                                               1 \n",
              "                                       臥龍街1號 \n",
              "                                               1 \n",
              "                                臺大仰萃樓東南側 \n",
              "                                               1 \n",
              "                            臺大公館停車場西北側 \n",
              "                                               1 \n",
              "                            臺大共同教學館東北側 \n",
              "                                               1 \n",
              "                            臺大共同教學館東南側 \n",
              "                                               1 \n",
              "                              臺大動物博物館西側 \n",
              "                                               1 \n",
              "                                  臺大博理館西側 \n",
              "                                               1 \n",
              "                                  臺大博雅館西側 \n",
              "                                               1 \n",
              "                  臺大原子與分子科學研究所東北側 \n",
              "                                               1 \n",
              "                          臺大園藝暨景觀學系北側 \n",
              "                                               1 \n",
              "                              臺大圖書資訊館北側 \n",
              "                                               1 \n",
              "                                臺大圖書館西南側 \n",
              "                                               1 \n",
              "                          臺大土木工程學系所南側 \n",
              "                                               1 \n",
              "                            臺大天文數學館西南側 \n",
              "                                               1 \n",
              "                                  臺大女一舍北側 \n",
              "                                               1 \n",
              "                                臺大女九舍西南側 \n",
              "                                               1 \n",
              "                                  臺大小福樓東側 \n",
              "                                               1 \n",
              "                                臺大工學院東南側 \n",
              "                                               1 \n",
              "                                臺大心理學系南側 \n",
              "                                               1 \n",
              "                                臺大思亮館東南側 \n",
              "                                               1 \n",
              "                                  臺大文學院西側 \n",
              "                                               1 \n",
              "                              臺大新生教學館南側 \n",
              "                                               1 \n",
              "                              臺大新聞研究所南側 \n",
              "                                               1 \n",
              "                                  臺大明達館西側 \n",
              "                                               1 \n",
              "                                  臺大校史館南側 \n",
              "                                               1 \n",
              "                              臺大森林系學系北側 \n",
              "                                               1 \n",
              "                    臺大植物魚類標本館一號館北側 \n",
              "                                               1 \n",
              "                                  臺大椰林小舖旁 \n",
              "                                               1 \n",
              "                            臺大檔案展示館東北側 \n",
              "                                               1 \n",
              "                               臺大水源舍區C南側 \n",
              "                                               1 \n",
              "                        臺大法人語言訓練中心北側 \n",
              "                                               1 \n",
              "                              臺大物理文物廳北側 \n",
              "                                               1 \n",
              "                                臺大物理系館南側 \n",
              "                                               1 \n",
              "                                臺大獸醫系館南側 \n",
              "                                               1 \n",
              "                            臺大生化科技學系西側 \n",
              "                                               1 \n",
              "                                臺大生物系館西側 \n",
              "                                               1 \n",
              "                                  臺大田徑場東側 \n",
              "                                               1 \n",
              "                                  臺大男八舍東側 \n",
              "                                               1 \n",
              "                            臺大社會及社工館南側 \n",
              "                                               1 \n",
              "                                  臺大社科院西側 \n",
              "                                               1 \n",
              "                                  臺大萬才館北側 \n",
              "                                               1 \n",
              "                              臺大綜合體育館北側 \n",
              "                                               1 \n",
              "                                臺大行政大樓西側 \n",
              "                                               1 \n",
              "                      臺大計算機網路資訊中心南側 \n",
              "                                               1 \n",
              "                                臺大進修教育大樓 \n",
              "                                               1 \n",
              "                              臺大雅頌廣場東南側 \n",
              "                                               1 \n",
              "                                臺大電機二館南側 \n",
              "                                               1 \n",
              "                                  臺大霖澤館南側 \n",
              "                                               1 \n",
              "                                  臺大體育館東側 \n",
              "                                               1 \n",
              "                            臺大鹿鳴廣場人行道側 \n",
              "                                               1 \n",
              "                        芳蘭路/基隆路三段155巷口 \n",
              "                                               1 \n",
              "                                芳蘭路51號西北側 \n",
              "                                               1 \n",
              "                              辛亥新生路口東南側 \n",
              "                                               1 \n",
              "                              辛亥泰順街口東南側 \n",
              "                                               1 \n",
              "                                  辛亥路一段30號 \n",
              "                                               1 \n",
              "                                  辛亥路三段15號 \n",
              "                                               1 \n",
              "                                 辛亥路三段188號 \n",
              "                                               1 \n",
              "                            辛亥路三段30號西北側 \n",
              "                                               1 \n",
              "                        辛亥路與復興南路口西南側 \n",
              "                                               1 \n",
              "                                  農業陳列館北側 \n",
              "                                               1 \n",
              "                         長興街/長興街80巷口西側 \n",
              "                                               1 \n",
              "                                長興街50號西北側 \n",
              "                                               1 "
            ]
          },
          "metadata": {
            "tags": []
          }
        }
      ]
    }
  ]
}
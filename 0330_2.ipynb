{
  "nbformat": 4,
  "nbformat_minor": 0,
  "metadata": {
    "colab": {
      "name": "0330_2.ipynb",
      "provenance": [],
      "collapsed_sections": [],
      "include_colab_link": true
    },
    "kernelspec": {
      "display_name": "R",
      "name": "ir"
    }
  },
  "cells": [
    {
      "cell_type": "markdown",
      "metadata": {
        "id": "view-in-github",
        "colab_type": "text"
      },
      "source": [
        "<a href=\"https://colab.research.google.com/github/mia-netizen/bigdata/blob/main/0330_2.ipynb\" target=\"_parent\"><img src=\"https://colab.research.google.com/assets/colab-badge.svg\" alt=\"Open In Colab\"/></a>"
      ]
    },
    {
      "cell_type": "code",
      "metadata": {
        "colab": {
          "base_uri": "https://localhost:8080/"
        },
        "id": "2saxy3IfOjx1",
        "outputId": "05777185-a6c7-4724-cd4b-6dc34e7ce23f"
      },
      "source": [
        "install.packages(\"rJava\")"
      ],
      "execution_count": 1,
      "outputs": [
        {
          "output_type": "stream",
          "text": [
            "Installing package into ‘/usr/local/lib/R/site-library’\n",
            "(as ‘lib’ is unspecified)\n",
            "\n"
          ],
          "name": "stderr"
        }
      ]
    },
    {
      "cell_type": "code",
      "metadata": {
        "colab": {
          "base_uri": "https://localhost:8080/"
        },
        "id": "lu4yBJeMOZ-K",
        "outputId": "273af863-22b4-4c42-fa4c-d91bf6b574eb"
      },
      "source": [
        "install.packages(\"jiebaR\")"
      ],
      "execution_count": 2,
      "outputs": [
        {
          "output_type": "stream",
          "text": [
            "Installing package into ‘/usr/local/lib/R/site-library’\n",
            "(as ‘lib’ is unspecified)\n",
            "\n",
            "also installing the dependency ‘jiebaRD’\n",
            "\n",
            "\n"
          ],
          "name": "stderr"
        }
      ]
    },
    {
      "cell_type": "code",
      "metadata": {
        "colab": {
          "base_uri": "https://localhost:8080/"
        },
        "id": "s7QGI4mBOgIA",
        "outputId": "3da58835-b912-4197-ef2e-e373ed8d2825"
      },
      "source": [
        "install.packages(\"tmcn\")"
      ],
      "execution_count": 3,
      "outputs": [
        {
          "output_type": "stream",
          "text": [
            "Installing package into ‘/usr/local/lib/R/site-library’\n",
            "(as ‘lib’ is unspecified)\n",
            "\n"
          ],
          "name": "stderr"
        }
      ]
    },
    {
      "cell_type": "code",
      "metadata": {
        "colab": {
          "base_uri": "https://localhost:8080/"
        },
        "id": "tYDn9z0MOjhT",
        "outputId": "d518bbd0-c22a-4286-96f6-e0e054de17af"
      },
      "source": [
        "install.packages(\"dplyr\")"
      ],
      "execution_count": 4,
      "outputs": [
        {
          "output_type": "stream",
          "text": [
            "Installing package into ‘/usr/local/lib/R/site-library’\n",
            "(as ‘lib’ is unspecified)\n",
            "\n"
          ],
          "name": "stderr"
        }
      ]
    },
    {
      "cell_type": "code",
      "metadata": {
        "colab": {
          "base_uri": "https://localhost:8080/"
        },
        "id": "Ox91Jg1nOp88",
        "outputId": "40591a38-62ec-4407-8a51-2f6922054b59"
      },
      "source": [
        "install.packages(\"lubridate\")"
      ],
      "execution_count": 5,
      "outputs": [
        {
          "output_type": "stream",
          "text": [
            "Installing package into ‘/usr/local/lib/R/site-library’\n",
            "(as ‘lib’ is unspecified)\n",
            "\n"
          ],
          "name": "stderr"
        }
      ]
    },
    {
      "cell_type": "code",
      "metadata": {
        "colab": {
          "base_uri": "https://localhost:8080/"
        },
        "id": "prCCgNpHOs1K",
        "outputId": "556be573-2621-4920-de20-f1f0ebe91db8"
      },
      "source": [
        "install.packages(\"stringr\")"
      ],
      "execution_count": 6,
      "outputs": [
        {
          "output_type": "stream",
          "text": [
            "Installing package into ‘/usr/local/lib/R/site-library’\n",
            "(as ‘lib’ is unspecified)\n",
            "\n"
          ],
          "name": "stderr"
        }
      ]
    },
    {
      "cell_type": "code",
      "metadata": {
        "colab": {
          "base_uri": "https://localhost:8080/"
        },
        "id": "fEXJnN06OwFv",
        "outputId": "ecc00faa-e1ed-4a49-ce6c-3ac6fc1d4760"
      },
      "source": [
        "install.packages(\"wordcloud\")"
      ],
      "execution_count": 7,
      "outputs": [
        {
          "output_type": "stream",
          "text": [
            "Installing package into ‘/usr/local/lib/R/site-library’\n",
            "(as ‘lib’ is unspecified)\n",
            "\n"
          ],
          "name": "stderr"
        }
      ]
    },
    {
      "cell_type": "code",
      "metadata": {
        "colab": {
          "base_uri": "https://localhost:8080/"
        },
        "id": "fNCkfvKjOyfD",
        "outputId": "1e23d1ab-1d4a-44ad-9a30-40ff61faf1a1"
      },
      "source": [
        "install.packages(\"Rwordseg\" , repos=\"http://R-Forge.R-project.org\")"
      ],
      "execution_count": 8,
      "outputs": [
        {
          "output_type": "stream",
          "text": [
            "Installing package into ‘/usr/local/lib/R/site-library’\n",
            "(as ‘lib’ is unspecified)\n",
            "\n",
            "Warning message:\n",
            "“dependency ‘HMM’ is not available”\n",
            "Warning message in install.packages(\"Rwordseg\", repos = \"http://R-Forge.R-project.org\"):\n",
            "“installation of package ‘Rwordseg’ had non-zero exit status”\n"
          ],
          "name": "stderr"
        }
      ]
    },
    {
      "cell_type": "code",
      "metadata": {
        "colab": {
          "base_uri": "https://localhost:8080/"
        },
        "id": "vIki5LXuO_d-",
        "outputId": "98ff6068-7eac-472c-af6a-543e0e237d8e"
      },
      "source": [
        "library(dplyr)"
      ],
      "execution_count": 9,
      "outputs": [
        {
          "output_type": "stream",
          "text": [
            "\n",
            "Attaching package: ‘dplyr’\n",
            "\n",
            "\n",
            "The following objects are masked from ‘package:stats’:\n",
            "\n",
            "    filter, lag\n",
            "\n",
            "\n",
            "The following objects are masked from ‘package:base’:\n",
            "\n",
            "    intersect, setdiff, setequal, union\n",
            "\n",
            "\n"
          ],
          "name": "stderr"
        }
      ]
    },
    {
      "cell_type": "code",
      "metadata": {
        "colab": {
          "base_uri": "https://localhost:8080/"
        },
        "id": "RAVvwh_oPC-5",
        "outputId": "0785c717-62fb-4b41-9701-89a746c65c37"
      },
      "source": [
        "library(lubridate)"
      ],
      "execution_count": 10,
      "outputs": [
        {
          "output_type": "stream",
          "text": [
            "Warning message in system(\"timedatectl\", intern = TRUE):\n",
            "“running command 'timedatectl' had status 1”\n",
            "\n",
            "Attaching package: ‘lubridate’\n",
            "\n",
            "\n",
            "The following objects are masked from ‘package:base’:\n",
            "\n",
            "    date, intersect, setdiff, union\n",
            "\n",
            "\n"
          ],
          "name": "stderr"
        }
      ]
    },
    {
      "cell_type": "code",
      "metadata": {
        "id": "_rFYQGjjPGPM"
      },
      "source": [
        "library(stringr)"
      ],
      "execution_count": 11,
      "outputs": []
    },
    {
      "cell_type": "code",
      "metadata": {
        "colab": {
          "base_uri": "https://localhost:8080/"
        },
        "id": "H68qDAG2PLWa",
        "outputId": "29c18ab6-10ef-4bc6-fa05-7e12e9ed6570"
      },
      "source": [
        "library(jiebaR)"
      ],
      "execution_count": 12,
      "outputs": [
        {
          "output_type": "stream",
          "text": [
            "Loading required package: jiebaRD\n",
            "\n"
          ],
          "name": "stderr"
        }
      ]
    },
    {
      "cell_type": "code",
      "metadata": {
        "id": "MN2Dep14PPr0"
      },
      "source": [
        "library(wordcloud)"
      ],
      "execution_count": 14,
      "outputs": []
    },
    {
      "cell_type": "code",
      "metadata": {
        "id": "cHnwbs2QPTTD"
      },
      "source": [
        "#載入文字\n",
        "content <- \"日本海洋研究開發機構調查指出，距離日本本島約480公里外海的深海底，被發現大量塑膠垃圾，推估每平方公里最多高達約7000 個，比離岸較近處發現的塑膠垃圾量還多。\n",
        "日本放送協會（NHK）報導，海洋研究開發機構研究團隊表示，為釐清塑膠垃圾造成海洋污染的實際樣貌，在2019年8月到9月間進行實地調查。\n",
        "研究團隊調查了離岸距離及水深皆不同的5處海底，在千葉縣所在的房總半島外海約520公里、水深約5700公尺的深海底，發現了1984年製造的漢堡塑膠外袋及牙膏軟管等塑膠垃圾。\n",
        "在房總半島外海約480公里深海，也發現很多塑膠購物袋及被亂丟的塑膠製品，基於目視可確認的垃圾數量來推估塑膠垃圾的總量，每平方公里多達約7000個。\n",
        "令人意外的是，離岸邊約20公里、水深約1400公尺的相模灣，被發現的塑膠垃圾量推估每平方公里約1950 個，相對於外海來得少。\n",
        "海洋研究開發機構副主任研究員中嶋亮太說，根據過去的研究，離陸地愈遠、垃圾量就愈少，但這次調查發現，就算離開陸地約500公里遠的深海底，竟然也成為垃圾棄置場。\n",
        "中嶋說，這些垃圾可能是被海流沖到外海，並在過程中跟海藻纏繞在一起然後沉入深海。\n",
        "他說，一旦塑膠垃圾沉入深海底，要回收幾乎是不可能的事，所以有必要徹底做好不讓塑膠垃圾流入大海的相關對策。\""
      ],
      "execution_count": 17,
      "outputs": []
    },
    {
      "cell_type": "code",
      "metadata": {
        "id": "4eXFneXPPxY5"
      },
      "source": [
        "#定義斷詞句\n",
        "cutter <- worker(bylines=F)#"
      ],
      "execution_count": 18,
      "outputs": []
    },
    {
      "cell_type": "code",
      "metadata": {
        "colab": {
          "base_uri": "https://localhost:8080/",
          "height": 187
        },
        "id": "Wu-czHQdP8At",
        "outputId": "8ac6be8c-6528-45f0-f2bd-c2ed1aee66cd"
      },
      "source": [
        "cutter[content]"
      ],
      "execution_count": 23,
      "outputs": [
        {
          "output_type": "display_data",
          "data": {
            "text/plain": [
              "  [1] \"日本\"     \"海洋\"     \"研究\"     \"開發\"     \"機構\"     \"調查\"    \n",
              "  [7] \"指出\"     \"距離\"     \"日本\"     \"本島\"     \"約\"       \"公里\"    \n",
              " [13] \"外海\"     \"的\"       \"深\"       \"海底\"     \"被\"       \"發現\"    \n",
              " [19] \"大量\"     \"塑膠\"     \"垃圾\"     \"推估\"     \"每\"       \"平方公里\"\n",
              " [25] \"最多\"     \"高達\"     \"約\"       \"個\"       \"比\"       \"離岸\"    \n",
              " [31] \"較\"       \"近處\"     \"發現\"     \"的\"       \"塑膠\"     \"垃圾\"    \n",
              " [37] \"量\"       \"還多\"     \"日本\"     \"放送\"     \"協會\"     \"報導\"    \n",
              " [43] \"海洋\"     \"研究\"     \"開發\"     \"機構\"     \"研究\"     \"團隊\"    \n",
              " [49] \"表示\"     \"為\"       \"釐清\"     \"塑膠\"     \"垃圾\"     \"造成\"    \n",
              " [55] \"海洋污染\" \"的\"       \"實際\"     \"樣貌\"     \"在\"       \"年\"      \n",
              " [61] \"月\"       \"到\"       \"月\"       \"間\"       \"進行\"     \"實地調查\"\n",
              " [67] \"研究\"     \"團隊\"     \"調查\"     \"了\"       \"離岸\"     \"距離\"    \n",
              " [73] \"及\"       \"水深\"     \"皆\"       \"不同\"     \"的\"       \"處\"      \n",
              " [79] \"海底\"     \"在\"       \"千葉縣\"   \"所在\"     \"的\"       \"房\"      \n",
              " [85] \"總\"       \"半島\"     \"外海\"     \"約\"       \"公里\"     \"水深\"    \n",
              " [91] \"約\"       \"公尺\"     \"的\"       \"深\"       \"海底\"     \"發現\"    \n",
              " [97] \"了\"       \"年\"       \"製造\"     \"的\"       \"漢堡\"     \"塑膠\"    \n",
              "[103] \"外袋\"     \"及\"       \"牙膏\"     \"軟管\"     \"等\"       \"塑膠\"    \n",
              "[109] \"垃圾\"     \"在\"       \"房\"       \"總\"       \"半島\"     \"外海\"    \n",
              "[115] \"約\"       \"公里\"     \"深海\"     \"也\"       \"發現\"     \"很多\"    \n",
              "[121] \"塑膠\"     \"購物袋\"   \"及\"       \"被\"       \"亂\"       \"丟的\"    \n",
              "[127] \"塑膠製品\" \"基於\"     \"目視\"     \"可\"       \"確認\"     \"的\"      \n",
              "[133] \"垃圾\"     \"數量\"     \"來\"       \"推估\"     \"塑膠\"     \"垃圾\"    \n",
              "[139] \"的\"       \"總量\"     \"每\"       \"平方公里\" \"多達\"     \"約個\"    \n",
              "[145] \"令人\"     \"意外\"     \"的\"       \"是\"       \"離\"       \"岸邊\"    \n",
              "[151] \"約\"       \"公里\"     \"水深\"     \"約\"       \"公尺\"     \"的\"      \n",
              "[157] \"相模灣\"   \"被\"       \"發現\"     \"的\"       \"塑膠\"     \"垃圾\"    \n",
              "[163] \"量\"       \"推估\"     \"每\"       \"平方公里\" \"約\"       \"個\"      \n",
              "[169] \"相對\"     \"於\"       \"外海\"     \"來得\"     \"少\"       \"海洋\"    \n",
              "[175] \"研究\"     \"開發\"     \"機構\"     \"副\"       \"主任\"     \"研究員\"  \n",
              "[181] \"中\"       \"嶋\"       \"亮\"       \"太\"       \"說\"       \"根據\"    \n",
              "[187] \"過去\"     \"的\"       \"研究\"     \"離\"       \"陸地\"     \"愈遠\"    \n",
              "[193] \"垃圾\"     \"量\"       \"就\"       \"愈少\"     \"但\"       \"這次\"    \n",
              "[199] \"調查\"     \"發現\"     \"就算\"     \"離開\"     \"陸地\"     \"約\"      \n",
              "[205] \"公里\"     \"遠\"       \"的\"       \"深\"       \"海底\"     \"竟然\"    \n",
              "[211] \"也\"       \"成為\"     \"垃圾\"     \"棄置\"     \"場\"       \"中\"      \n",
              "[217] \"嶋\"       \"說\"       \"這些\"     \"垃圾\"     \"可能\"     \"是\"      \n",
              "[223] \"被\"       \"海流\"     \"沖\"       \"到\"       \"外海\"     \"並在\"    \n",
              "[229] \"過程\"     \"中\"       \"跟\"       \"海藻\"     \"纏繞\"     \"在\"      \n",
              "[235] \"一起\"     \"然後\"     \"沉入\"     \"深海\"     \"他\"       \"說\"      \n",
              "[241] \"一旦\"     \"塑膠\"     \"垃圾\"     \"沉入\"     \"深\"       \"海底\"    \n",
              "[247] \"要\"       \"回收\"     \"幾乎\"     \"是\"       \"不\"       \"可能\"    \n",
              "[253] \"的\"       \"事\"       \"所以\"     \"有\"       \"必要\"     \"徹底\"    \n",
              "[259] \"做好\"     \"不讓\"     \"塑膠\"     \"垃圾\"     \"流入\"     \"大海\"    \n",
              "[265] \"的\"       \"相關\"     \"對策\"    "
            ],
            "text/latex": "\\begin{enumerate*}\n\\item '日本'\n\\item '海洋'\n\\item '研究'\n\\item '開發'\n\\item '機構'\n\\item '調查'\n\\item '指出'\n\\item '距離'\n\\item '日本'\n\\item '本島'\n\\item '約'\n\\item '公里'\n\\item '外海'\n\\item '的'\n\\item '深'\n\\item '海底'\n\\item '被'\n\\item '發現'\n\\item '大量'\n\\item '塑膠'\n\\item '垃圾'\n\\item '推估'\n\\item '每'\n\\item '平方公里'\n\\item '最多'\n\\item '高達'\n\\item '約'\n\\item '個'\n\\item '比'\n\\item '離岸'\n\\item '較'\n\\item '近處'\n\\item '發現'\n\\item '的'\n\\item '塑膠'\n\\item '垃圾'\n\\item '量'\n\\item '還多'\n\\item '日本'\n\\item '放送'\n\\item '協會'\n\\item '報導'\n\\item '海洋'\n\\item '研究'\n\\item '開發'\n\\item '機構'\n\\item '研究'\n\\item '團隊'\n\\item '表示'\n\\item '為'\n\\item '釐清'\n\\item '塑膠'\n\\item '垃圾'\n\\item '造成'\n\\item '海洋污染'\n\\item '的'\n\\item '實際'\n\\item '樣貌'\n\\item '在'\n\\item '年'\n\\item '月'\n\\item '到'\n\\item '月'\n\\item '間'\n\\item '進行'\n\\item '實地調查'\n\\item '研究'\n\\item '團隊'\n\\item '調查'\n\\item '了'\n\\item '離岸'\n\\item '距離'\n\\item '及'\n\\item '水深'\n\\item '皆'\n\\item '不同'\n\\item '的'\n\\item '處'\n\\item '海底'\n\\item '在'\n\\item '千葉縣'\n\\item '所在'\n\\item '的'\n\\item '房'\n\\item '總'\n\\item '半島'\n\\item '外海'\n\\item '約'\n\\item '公里'\n\\item '水深'\n\\item '約'\n\\item '公尺'\n\\item '的'\n\\item '深'\n\\item '海底'\n\\item '發現'\n\\item '了'\n\\item '年'\n\\item '製造'\n\\item '的'\n\\item '漢堡'\n\\item '塑膠'\n\\item '外袋'\n\\item '及'\n\\item '牙膏'\n\\item '軟管'\n\\item '等'\n\\item '塑膠'\n\\item '垃圾'\n\\item '在'\n\\item '房'\n\\item '總'\n\\item '半島'\n\\item '外海'\n\\item '約'\n\\item '公里'\n\\item '深海'\n\\item '也'\n\\item '發現'\n\\item '很多'\n\\item '塑膠'\n\\item '購物袋'\n\\item '及'\n\\item '被'\n\\item '亂'\n\\item '丟的'\n\\item '塑膠製品'\n\\item '基於'\n\\item '目視'\n\\item '可'\n\\item '確認'\n\\item '的'\n\\item '垃圾'\n\\item '數量'\n\\item '來'\n\\item '推估'\n\\item '塑膠'\n\\item '垃圾'\n\\item '的'\n\\item '總量'\n\\item '每'\n\\item '平方公里'\n\\item '多達'\n\\item '約個'\n\\item '令人'\n\\item '意外'\n\\item '的'\n\\item '是'\n\\item '離'\n\\item '岸邊'\n\\item '約'\n\\item '公里'\n\\item '水深'\n\\item '約'\n\\item '公尺'\n\\item '的'\n\\item '相模灣'\n\\item '被'\n\\item '發現'\n\\item '的'\n\\item '塑膠'\n\\item '垃圾'\n\\item '量'\n\\item '推估'\n\\item '每'\n\\item '平方公里'\n\\item '約'\n\\item '個'\n\\item '相對'\n\\item '於'\n\\item '外海'\n\\item '來得'\n\\item '少'\n\\item '海洋'\n\\item '研究'\n\\item '開發'\n\\item '機構'\n\\item '副'\n\\item '主任'\n\\item '研究員'\n\\item '中'\n\\item '嶋'\n\\item '亮'\n\\item '太'\n\\item '說'\n\\item '根據'\n\\item '過去'\n\\item '的'\n\\item '研究'\n\\item '離'\n\\item '陸地'\n\\item '愈遠'\n\\item '垃圾'\n\\item '量'\n\\item '就'\n\\item '愈少'\n\\item '但'\n\\item '這次'\n\\item '調查'\n\\item '發現'\n\\item '就算'\n\\item '離開'\n\\item '陸地'\n\\item '約'\n\\item '公里'\n\\item '遠'\n\\item '的'\n\\item '深'\n\\item '海底'\n\\item '竟然'\n\\item '也'\n\\item '成為'\n\\item '垃圾'\n\\item '棄置'\n\\item '場'\n\\item '中'\n\\item '嶋'\n\\item '說'\n\\item '這些'\n\\item '垃圾'\n\\item '可能'\n\\item '是'\n\\item '被'\n\\item '海流'\n\\item '沖'\n\\item '到'\n\\item '外海'\n\\item '並在'\n\\item '過程'\n\\item '中'\n\\item '跟'\n\\item '海藻'\n\\item '纏繞'\n\\item '在'\n\\item '一起'\n\\item '然後'\n\\item '沉入'\n\\item '深海'\n\\item '他'\n\\item '說'\n\\item '一旦'\n\\item '塑膠'\n\\item '垃圾'\n\\item '沉入'\n\\item '深'\n\\item '海底'\n\\item '要'\n\\item '回收'\n\\item '幾乎'\n\\item '是'\n\\item '不'\n\\item '可能'\n\\item '的'\n\\item '事'\n\\item '所以'\n\\item '有'\n\\item '必要'\n\\item '徹底'\n\\item '做好'\n\\item '不讓'\n\\item '塑膠'\n\\item '垃圾'\n\\item '流入'\n\\item '大海'\n\\item '的'\n\\item '相關'\n\\item '對策'\n\\end{enumerate*}\n",
            "text/markdown": "1. '日本'\n2. '海洋'\n3. '研究'\n4. '開發'\n5. '機構'\n6. '調查'\n7. '指出'\n8. '距離'\n9. '日本'\n10. '本島'\n11. '約'\n12. '公里'\n13. '外海'\n14. '的'\n15. '深'\n16. '海底'\n17. '被'\n18. '發現'\n19. '大量'\n20. '塑膠'\n21. '垃圾'\n22. '推估'\n23. '每'\n24. '平方公里'\n25. '最多'\n26. '高達'\n27. '約'\n28. '個'\n29. '比'\n30. '離岸'\n31. '較'\n32. '近處'\n33. '發現'\n34. '的'\n35. '塑膠'\n36. '垃圾'\n37. '量'\n38. '還多'\n39. '日本'\n40. '放送'\n41. '協會'\n42. '報導'\n43. '海洋'\n44. '研究'\n45. '開發'\n46. '機構'\n47. '研究'\n48. '團隊'\n49. '表示'\n50. '為'\n51. '釐清'\n52. '塑膠'\n53. '垃圾'\n54. '造成'\n55. '海洋污染'\n56. '的'\n57. '實際'\n58. '樣貌'\n59. '在'\n60. '年'\n61. '月'\n62. '到'\n63. '月'\n64. '間'\n65. '進行'\n66. '實地調查'\n67. '研究'\n68. '團隊'\n69. '調查'\n70. '了'\n71. '離岸'\n72. '距離'\n73. '及'\n74. '水深'\n75. '皆'\n76. '不同'\n77. '的'\n78. '處'\n79. '海底'\n80. '在'\n81. '千葉縣'\n82. '所在'\n83. '的'\n84. '房'\n85. '總'\n86. '半島'\n87. '外海'\n88. '約'\n89. '公里'\n90. '水深'\n91. '約'\n92. '公尺'\n93. '的'\n94. '深'\n95. '海底'\n96. '發現'\n97. '了'\n98. '年'\n99. '製造'\n100. '的'\n101. '漢堡'\n102. '塑膠'\n103. '外袋'\n104. '及'\n105. '牙膏'\n106. '軟管'\n107. '等'\n108. '塑膠'\n109. '垃圾'\n110. '在'\n111. '房'\n112. '總'\n113. '半島'\n114. '外海'\n115. '約'\n116. '公里'\n117. '深海'\n118. '也'\n119. '發現'\n120. '很多'\n121. '塑膠'\n122. '購物袋'\n123. '及'\n124. '被'\n125. '亂'\n126. '丟的'\n127. '塑膠製品'\n128. '基於'\n129. '目視'\n130. '可'\n131. '確認'\n132. '的'\n133. '垃圾'\n134. '數量'\n135. '來'\n136. '推估'\n137. '塑膠'\n138. '垃圾'\n139. '的'\n140. '總量'\n141. '每'\n142. '平方公里'\n143. '多達'\n144. '約個'\n145. '令人'\n146. '意外'\n147. '的'\n148. '是'\n149. '離'\n150. '岸邊'\n151. '約'\n152. '公里'\n153. '水深'\n154. '約'\n155. '公尺'\n156. '的'\n157. '相模灣'\n158. '被'\n159. '發現'\n160. '的'\n161. '塑膠'\n162. '垃圾'\n163. '量'\n164. '推估'\n165. '每'\n166. '平方公里'\n167. '約'\n168. '個'\n169. '相對'\n170. '於'\n171. '外海'\n172. '來得'\n173. '少'\n174. '海洋'\n175. '研究'\n176. '開發'\n177. '機構'\n178. '副'\n179. '主任'\n180. '研究員'\n181. '中'\n182. '嶋'\n183. '亮'\n184. '太'\n185. '說'\n186. '根據'\n187. '過去'\n188. '的'\n189. '研究'\n190. '離'\n191. '陸地'\n192. '愈遠'\n193. '垃圾'\n194. '量'\n195. '就'\n196. '愈少'\n197. '但'\n198. '這次'\n199. '調查'\n200. '發現'\n201. '就算'\n202. '離開'\n203. '陸地'\n204. '約'\n205. '公里'\n206. '遠'\n207. '的'\n208. '深'\n209. '海底'\n210. '竟然'\n211. '也'\n212. '成為'\n213. '垃圾'\n214. '棄置'\n215. '場'\n216. '中'\n217. '嶋'\n218. '說'\n219. '這些'\n220. '垃圾'\n221. '可能'\n222. '是'\n223. '被'\n224. '海流'\n225. '沖'\n226. '到'\n227. '外海'\n228. '並在'\n229. '過程'\n230. '中'\n231. '跟'\n232. '海藻'\n233. '纏繞'\n234. '在'\n235. '一起'\n236. '然後'\n237. '沉入'\n238. '深海'\n239. '他'\n240. '說'\n241. '一旦'\n242. '塑膠'\n243. '垃圾'\n244. '沉入'\n245. '深'\n246. '海底'\n247. '要'\n248. '回收'\n249. '幾乎'\n250. '是'\n251. '不'\n252. '可能'\n253. '的'\n254. '事'\n255. '所以'\n256. '有'\n257. '必要'\n258. '徹底'\n259. '做好'\n260. '不讓'\n261. '塑膠'\n262. '垃圾'\n263. '流入'\n264. '大海'\n265. '的'\n266. '相關'\n267. '對策'\n\n\n",
            "text/html": [
              "<style>\n",
              ".list-inline {list-style: none; margin:0; padding: 0}\n",
              ".list-inline>li {display: inline-block}\n",
              ".list-inline>li:not(:last-child)::after {content: \"\\00b7\"; padding: 0 .5ex}\n",
              "</style>\n",
              "<ol class=list-inline><li>'日本'</li><li>'海洋'</li><li>'研究'</li><li>'開發'</li><li>'機構'</li><li>'調查'</li><li>'指出'</li><li>'距離'</li><li>'日本'</li><li>'本島'</li><li>'約'</li><li>'公里'</li><li>'外海'</li><li>'的'</li><li>'深'</li><li>'海底'</li><li>'被'</li><li>'發現'</li><li>'大量'</li><li>'塑膠'</li><li>'垃圾'</li><li>'推估'</li><li>'每'</li><li>'平方公里'</li><li>'最多'</li><li>'高達'</li><li>'約'</li><li>'個'</li><li>'比'</li><li>'離岸'</li><li>'較'</li><li>'近處'</li><li>'發現'</li><li>'的'</li><li>'塑膠'</li><li>'垃圾'</li><li>'量'</li><li>'還多'</li><li>'日本'</li><li>'放送'</li><li>'協會'</li><li>'報導'</li><li>'海洋'</li><li>'研究'</li><li>'開發'</li><li>'機構'</li><li>'研究'</li><li>'團隊'</li><li>'表示'</li><li>'為'</li><li>'釐清'</li><li>'塑膠'</li><li>'垃圾'</li><li>'造成'</li><li>'海洋污染'</li><li>'的'</li><li>'實際'</li><li>'樣貌'</li><li>'在'</li><li>'年'</li><li>'月'</li><li>'到'</li><li>'月'</li><li>'間'</li><li>'進行'</li><li>'實地調查'</li><li>'研究'</li><li>'團隊'</li><li>'調查'</li><li>'了'</li><li>'離岸'</li><li>'距離'</li><li>'及'</li><li>'水深'</li><li>'皆'</li><li>'不同'</li><li>'的'</li><li>'處'</li><li>'海底'</li><li>'在'</li><li>'千葉縣'</li><li>'所在'</li><li>'的'</li><li>'房'</li><li>'總'</li><li>'半島'</li><li>'外海'</li><li>'約'</li><li>'公里'</li><li>'水深'</li><li>'約'</li><li>'公尺'</li><li>'的'</li><li>'深'</li><li>'海底'</li><li>'發現'</li><li>'了'</li><li>'年'</li><li>'製造'</li><li>'的'</li><li>'漢堡'</li><li>'塑膠'</li><li>'外袋'</li><li>'及'</li><li>'牙膏'</li><li>'軟管'</li><li>'等'</li><li>'塑膠'</li><li>'垃圾'</li><li>'在'</li><li>'房'</li><li>'總'</li><li>'半島'</li><li>'外海'</li><li>'約'</li><li>'公里'</li><li>'深海'</li><li>'也'</li><li>'發現'</li><li>'很多'</li><li>'塑膠'</li><li>'購物袋'</li><li>'及'</li><li>'被'</li><li>'亂'</li><li>'丟的'</li><li>'塑膠製品'</li><li>'基於'</li><li>'目視'</li><li>'可'</li><li>'確認'</li><li>'的'</li><li>'垃圾'</li><li>'數量'</li><li>'來'</li><li>'推估'</li><li>'塑膠'</li><li>'垃圾'</li><li>'的'</li><li>'總量'</li><li>'每'</li><li>'平方公里'</li><li>'多達'</li><li>'約個'</li><li>'令人'</li><li>'意外'</li><li>'的'</li><li>'是'</li><li>'離'</li><li>'岸邊'</li><li>'約'</li><li>'公里'</li><li>'水深'</li><li>'約'</li><li>'公尺'</li><li>'的'</li><li>'相模灣'</li><li>'被'</li><li>'發現'</li><li>'的'</li><li>'塑膠'</li><li>'垃圾'</li><li>'量'</li><li>'推估'</li><li>'每'</li><li>'平方公里'</li><li>'約'</li><li>'個'</li><li>'相對'</li><li>'於'</li><li>'外海'</li><li>'來得'</li><li>'少'</li><li>'海洋'</li><li>'研究'</li><li>'開發'</li><li>'機構'</li><li>'副'</li><li>'主任'</li><li>'研究員'</li><li>'中'</li><li>'嶋'</li><li>'亮'</li><li>'太'</li><li>'說'</li><li>'根據'</li><li>'過去'</li><li>'的'</li><li>'研究'</li><li>'離'</li><li>'陸地'</li><li>'愈遠'</li><li>'垃圾'</li><li>'量'</li><li>'就'</li><li>'愈少'</li><li>'但'</li><li>'這次'</li><li>'調查'</li><li>'發現'</li><li>'就算'</li><li>'離開'</li><li>'陸地'</li><li>'約'</li><li>'公里'</li><li>'遠'</li><li>'的'</li><li>'深'</li><li>'海底'</li><li>'竟然'</li><li>'也'</li><li>'成為'</li><li>'垃圾'</li><li>'棄置'</li><li>'場'</li><li>'中'</li><li>'嶋'</li><li>'說'</li><li>'這些'</li><li>'垃圾'</li><li>'可能'</li><li>'是'</li><li>'被'</li><li>'海流'</li><li>'沖'</li><li>'到'</li><li>'外海'</li><li>'並在'</li><li>'過程'</li><li>'中'</li><li>'跟'</li><li>'海藻'</li><li>'纏繞'</li><li>'在'</li><li>'一起'</li><li>'然後'</li><li>'沉入'</li><li>'深海'</li><li>'他'</li><li>'說'</li><li>'一旦'</li><li>'塑膠'</li><li>'垃圾'</li><li>'沉入'</li><li>'深'</li><li>'海底'</li><li>'要'</li><li>'回收'</li><li>'幾乎'</li><li>'是'</li><li>'不'</li><li>'可能'</li><li>'的'</li><li>'事'</li><li>'所以'</li><li>'有'</li><li>'必要'</li><li>'徹底'</li><li>'做好'</li><li>'不讓'</li><li>'塑膠'</li><li>'垃圾'</li><li>'流入'</li><li>'大海'</li><li>'的'</li><li>'相關'</li><li>'對策'</li></ol>\n"
            ]
          },
          "metadata": {
            "tags": []
          }
        }
      ]
    },
    {
      "cell_type": "code",
      "metadata": {
        "id": "8wcFJgJEVY9z"
      },
      "source": [
        "new_words <- c(\"海洋\",\"垃圾\",\"塑膠\")"
      ],
      "execution_count": 25,
      "outputs": []
    },
    {
      "cell_type": "code",
      "metadata": {
        "id": "9VvZK0CoQe2D"
      },
      "source": [
        "for(i in 1:length(new_words)){new_user_word(cutter,new_words[i])}"
      ],
      "execution_count": 26,
      "outputs": []
    },
    {
      "cell_type": "code",
      "metadata": {
        "colab": {
          "base_uri": "https://localhost:8080/",
          "height": 187
        },
        "id": "xYt7xiQ8QzTv",
        "outputId": "00c2c8ad-87fd-4aff-e871-5d554d153756"
      },
      "source": [
        "content <- str_remove_all(content,\"[0-9a-zA-Z]+?\")\n",
        "cutter[content]"
      ],
      "execution_count": 27,
      "outputs": [
        {
          "output_type": "display_data",
          "data": {
            "text/plain": [
              "  [1] \"日本\"     \"海洋\"     \"研究\"     \"開發\"     \"機構\"     \"調查\"    \n",
              "  [7] \"指出\"     \"距離\"     \"日本\"     \"本島\"     \"約\"       \"公里\"    \n",
              " [13] \"外海\"     \"的\"       \"深\"       \"海底\"     \"被\"       \"發現\"    \n",
              " [19] \"大量\"     \"塑膠\"     \"垃圾\"     \"推估\"     \"每\"       \"平方公里\"\n",
              " [25] \"最多\"     \"高達\"     \"約\"       \"個\"       \"比\"       \"離岸\"    \n",
              " [31] \"較\"       \"近處\"     \"發現\"     \"的\"       \"塑膠\"     \"垃圾\"    \n",
              " [37] \"量\"       \"還多\"     \"日本\"     \"放送\"     \"協會\"     \"報導\"    \n",
              " [43] \"海洋\"     \"研究\"     \"開發\"     \"機構\"     \"研究\"     \"團隊\"    \n",
              " [49] \"表示\"     \"為\"       \"釐清\"     \"塑膠\"     \"垃圾\"     \"造成\"    \n",
              " [55] \"海洋\"     \"污染\"     \"的\"       \"實際\"     \"樣貌\"     \"在\"      \n",
              " [61] \"年\"       \"月\"       \"到\"       \"月\"       \"間\"       \"進行\"    \n",
              " [67] \"實地調查\" \"研究\"     \"團隊\"     \"調查\"     \"了\"       \"離岸\"    \n",
              " [73] \"距離\"     \"及\"       \"水深\"     \"皆\"       \"不同\"     \"的\"      \n",
              " [79] \"處\"       \"海底\"     \"在\"       \"千葉縣\"   \"所在\"     \"的\"      \n",
              " [85] \"房\"       \"總\"       \"半島\"     \"外海\"     \"約\"       \"公里\"    \n",
              " [91] \"水深\"     \"約\"       \"公尺\"     \"的\"       \"深\"       \"海底\"    \n",
              " [97] \"發現\"     \"了\"       \"年\"       \"製造\"     \"的\"       \"漢堡\"    \n",
              "[103] \"塑膠\"     \"外袋\"     \"及\"       \"牙膏\"     \"軟管\"     \"等\"      \n",
              "[109] \"塑膠\"     \"垃圾\"     \"在\"       \"房\"       \"總\"       \"半島\"    \n",
              "[115] \"外海\"     \"約\"       \"公里\"     \"深海\"     \"也\"       \"發現\"    \n",
              "[121] \"很多\"     \"塑膠\"     \"購物袋\"   \"及\"       \"被\"       \"亂\"      \n",
              "[127] \"丟的\"     \"塑膠\"     \"製品\"     \"基於\"     \"目視\"     \"可\"      \n",
              "[133] \"確認\"     \"的\"       \"垃圾\"     \"數量\"     \"來\"       \"推估\"    \n",
              "[139] \"塑膠\"     \"垃圾\"     \"的\"       \"總量\"     \"每\"       \"平方公里\"\n",
              "[145] \"多達\"     \"約個\"     \"令人\"     \"意外\"     \"的\"       \"是\"      \n",
              "[151] \"離\"       \"岸邊\"     \"約\"       \"公里\"     \"水深\"     \"約\"      \n",
              "[157] \"公尺\"     \"的\"       \"相模灣\"   \"被\"       \"發現\"     \"的\"      \n",
              "[163] \"塑膠\"     \"垃圾\"     \"量\"       \"推估\"     \"每\"       \"平方公里\"\n",
              "[169] \"約\"       \"個\"       \"相對\"     \"於\"       \"外海\"     \"來得\"    \n",
              "[175] \"少\"       \"海洋\"     \"研究\"     \"開發\"     \"機構\"     \"副\"      \n",
              "[181] \"主任\"     \"研究員\"   \"中\"       \"嶋\"       \"亮\"       \"太\"      \n",
              "[187] \"說\"       \"根據\"     \"過去\"     \"的\"       \"研究\"     \"離\"      \n",
              "[193] \"陸地\"     \"愈遠\"     \"垃圾\"     \"量\"       \"就\"       \"愈少\"    \n",
              "[199] \"但\"       \"這次\"     \"調查\"     \"發現\"     \"就算\"     \"離開\"    \n",
              "[205] \"陸地\"     \"約\"       \"公里\"     \"遠\"       \"的\"       \"深\"      \n",
              "[211] \"海底\"     \"竟然\"     \"也\"       \"成為\"     \"垃圾\"     \"棄置\"    \n",
              "[217] \"場\"       \"中\"       \"嶋\"       \"說\"       \"這些\"     \"垃圾\"    \n",
              "[223] \"可能\"     \"是\"       \"被\"       \"海流\"     \"沖\"       \"到\"      \n",
              "[229] \"外海\"     \"並在\"     \"過程\"     \"中\"       \"跟\"       \"海藻\"    \n",
              "[235] \"纏繞\"     \"在\"       \"一起\"     \"然後\"     \"沉入\"     \"深海\"    \n",
              "[241] \"他\"       \"說\"       \"一旦\"     \"塑膠\"     \"垃圾\"     \"沉入\"    \n",
              "[247] \"深\"       \"海底\"     \"要\"       \"回收\"     \"幾乎\"     \"是\"      \n",
              "[253] \"不\"       \"可能\"     \"的\"       \"事\"       \"所以\"     \"有\"      \n",
              "[259] \"必要\"     \"徹底\"     \"做好\"     \"不讓\"     \"塑膠\"     \"垃圾\"    \n",
              "[265] \"流入\"     \"大海\"     \"的\"       \"相關\"     \"對策\"    "
            ],
            "text/latex": "\\begin{enumerate*}\n\\item '日本'\n\\item '海洋'\n\\item '研究'\n\\item '開發'\n\\item '機構'\n\\item '調查'\n\\item '指出'\n\\item '距離'\n\\item '日本'\n\\item '本島'\n\\item '約'\n\\item '公里'\n\\item '外海'\n\\item '的'\n\\item '深'\n\\item '海底'\n\\item '被'\n\\item '發現'\n\\item '大量'\n\\item '塑膠'\n\\item '垃圾'\n\\item '推估'\n\\item '每'\n\\item '平方公里'\n\\item '最多'\n\\item '高達'\n\\item '約'\n\\item '個'\n\\item '比'\n\\item '離岸'\n\\item '較'\n\\item '近處'\n\\item '發現'\n\\item '的'\n\\item '塑膠'\n\\item '垃圾'\n\\item '量'\n\\item '還多'\n\\item '日本'\n\\item '放送'\n\\item '協會'\n\\item '報導'\n\\item '海洋'\n\\item '研究'\n\\item '開發'\n\\item '機構'\n\\item '研究'\n\\item '團隊'\n\\item '表示'\n\\item '為'\n\\item '釐清'\n\\item '塑膠'\n\\item '垃圾'\n\\item '造成'\n\\item '海洋'\n\\item '污染'\n\\item '的'\n\\item '實際'\n\\item '樣貌'\n\\item '在'\n\\item '年'\n\\item '月'\n\\item '到'\n\\item '月'\n\\item '間'\n\\item '進行'\n\\item '實地調查'\n\\item '研究'\n\\item '團隊'\n\\item '調查'\n\\item '了'\n\\item '離岸'\n\\item '距離'\n\\item '及'\n\\item '水深'\n\\item '皆'\n\\item '不同'\n\\item '的'\n\\item '處'\n\\item '海底'\n\\item '在'\n\\item '千葉縣'\n\\item '所在'\n\\item '的'\n\\item '房'\n\\item '總'\n\\item '半島'\n\\item '外海'\n\\item '約'\n\\item '公里'\n\\item '水深'\n\\item '約'\n\\item '公尺'\n\\item '的'\n\\item '深'\n\\item '海底'\n\\item '發現'\n\\item '了'\n\\item '年'\n\\item '製造'\n\\item '的'\n\\item '漢堡'\n\\item '塑膠'\n\\item '外袋'\n\\item '及'\n\\item '牙膏'\n\\item '軟管'\n\\item '等'\n\\item '塑膠'\n\\item '垃圾'\n\\item '在'\n\\item '房'\n\\item '總'\n\\item '半島'\n\\item '外海'\n\\item '約'\n\\item '公里'\n\\item '深海'\n\\item '也'\n\\item '發現'\n\\item '很多'\n\\item '塑膠'\n\\item '購物袋'\n\\item '及'\n\\item '被'\n\\item '亂'\n\\item '丟的'\n\\item '塑膠'\n\\item '製品'\n\\item '基於'\n\\item '目視'\n\\item '可'\n\\item '確認'\n\\item '的'\n\\item '垃圾'\n\\item '數量'\n\\item '來'\n\\item '推估'\n\\item '塑膠'\n\\item '垃圾'\n\\item '的'\n\\item '總量'\n\\item '每'\n\\item '平方公里'\n\\item '多達'\n\\item '約個'\n\\item '令人'\n\\item '意外'\n\\item '的'\n\\item '是'\n\\item '離'\n\\item '岸邊'\n\\item '約'\n\\item '公里'\n\\item '水深'\n\\item '約'\n\\item '公尺'\n\\item '的'\n\\item '相模灣'\n\\item '被'\n\\item '發現'\n\\item '的'\n\\item '塑膠'\n\\item '垃圾'\n\\item '量'\n\\item '推估'\n\\item '每'\n\\item '平方公里'\n\\item '約'\n\\item '個'\n\\item '相對'\n\\item '於'\n\\item '外海'\n\\item '來得'\n\\item '少'\n\\item '海洋'\n\\item '研究'\n\\item '開發'\n\\item '機構'\n\\item '副'\n\\item '主任'\n\\item '研究員'\n\\item '中'\n\\item '嶋'\n\\item '亮'\n\\item '太'\n\\item '說'\n\\item '根據'\n\\item '過去'\n\\item '的'\n\\item '研究'\n\\item '離'\n\\item '陸地'\n\\item '愈遠'\n\\item '垃圾'\n\\item '量'\n\\item '就'\n\\item '愈少'\n\\item '但'\n\\item '這次'\n\\item '調查'\n\\item '發現'\n\\item '就算'\n\\item '離開'\n\\item '陸地'\n\\item '約'\n\\item '公里'\n\\item '遠'\n\\item '的'\n\\item '深'\n\\item '海底'\n\\item '竟然'\n\\item '也'\n\\item '成為'\n\\item '垃圾'\n\\item '棄置'\n\\item '場'\n\\item '中'\n\\item '嶋'\n\\item '說'\n\\item '這些'\n\\item '垃圾'\n\\item '可能'\n\\item '是'\n\\item '被'\n\\item '海流'\n\\item '沖'\n\\item '到'\n\\item '外海'\n\\item '並在'\n\\item '過程'\n\\item '中'\n\\item '跟'\n\\item '海藻'\n\\item '纏繞'\n\\item '在'\n\\item '一起'\n\\item '然後'\n\\item '沉入'\n\\item '深海'\n\\item '他'\n\\item '說'\n\\item '一旦'\n\\item '塑膠'\n\\item '垃圾'\n\\item '沉入'\n\\item '深'\n\\item '海底'\n\\item '要'\n\\item '回收'\n\\item '幾乎'\n\\item '是'\n\\item '不'\n\\item '可能'\n\\item '的'\n\\item '事'\n\\item '所以'\n\\item '有'\n\\item '必要'\n\\item '徹底'\n\\item '做好'\n\\item '不讓'\n\\item '塑膠'\n\\item '垃圾'\n\\item '流入'\n\\item '大海'\n\\item '的'\n\\item '相關'\n\\item '對策'\n\\end{enumerate*}\n",
            "text/markdown": "1. '日本'\n2. '海洋'\n3. '研究'\n4. '開發'\n5. '機構'\n6. '調查'\n7. '指出'\n8. '距離'\n9. '日本'\n10. '本島'\n11. '約'\n12. '公里'\n13. '外海'\n14. '的'\n15. '深'\n16. '海底'\n17. '被'\n18. '發現'\n19. '大量'\n20. '塑膠'\n21. '垃圾'\n22. '推估'\n23. '每'\n24. '平方公里'\n25. '最多'\n26. '高達'\n27. '約'\n28. '個'\n29. '比'\n30. '離岸'\n31. '較'\n32. '近處'\n33. '發現'\n34. '的'\n35. '塑膠'\n36. '垃圾'\n37. '量'\n38. '還多'\n39. '日本'\n40. '放送'\n41. '協會'\n42. '報導'\n43. '海洋'\n44. '研究'\n45. '開發'\n46. '機構'\n47. '研究'\n48. '團隊'\n49. '表示'\n50. '為'\n51. '釐清'\n52. '塑膠'\n53. '垃圾'\n54. '造成'\n55. '海洋'\n56. '污染'\n57. '的'\n58. '實際'\n59. '樣貌'\n60. '在'\n61. '年'\n62. '月'\n63. '到'\n64. '月'\n65. '間'\n66. '進行'\n67. '實地調查'\n68. '研究'\n69. '團隊'\n70. '調查'\n71. '了'\n72. '離岸'\n73. '距離'\n74. '及'\n75. '水深'\n76. '皆'\n77. '不同'\n78. '的'\n79. '處'\n80. '海底'\n81. '在'\n82. '千葉縣'\n83. '所在'\n84. '的'\n85. '房'\n86. '總'\n87. '半島'\n88. '外海'\n89. '約'\n90. '公里'\n91. '水深'\n92. '約'\n93. '公尺'\n94. '的'\n95. '深'\n96. '海底'\n97. '發現'\n98. '了'\n99. '年'\n100. '製造'\n101. '的'\n102. '漢堡'\n103. '塑膠'\n104. '外袋'\n105. '及'\n106. '牙膏'\n107. '軟管'\n108. '等'\n109. '塑膠'\n110. '垃圾'\n111. '在'\n112. '房'\n113. '總'\n114. '半島'\n115. '外海'\n116. '約'\n117. '公里'\n118. '深海'\n119. '也'\n120. '發現'\n121. '很多'\n122. '塑膠'\n123. '購物袋'\n124. '及'\n125. '被'\n126. '亂'\n127. '丟的'\n128. '塑膠'\n129. '製品'\n130. '基於'\n131. '目視'\n132. '可'\n133. '確認'\n134. '的'\n135. '垃圾'\n136. '數量'\n137. '來'\n138. '推估'\n139. '塑膠'\n140. '垃圾'\n141. '的'\n142. '總量'\n143. '每'\n144. '平方公里'\n145. '多達'\n146. '約個'\n147. '令人'\n148. '意外'\n149. '的'\n150. '是'\n151. '離'\n152. '岸邊'\n153. '約'\n154. '公里'\n155. '水深'\n156. '約'\n157. '公尺'\n158. '的'\n159. '相模灣'\n160. '被'\n161. '發現'\n162. '的'\n163. '塑膠'\n164. '垃圾'\n165. '量'\n166. '推估'\n167. '每'\n168. '平方公里'\n169. '約'\n170. '個'\n171. '相對'\n172. '於'\n173. '外海'\n174. '來得'\n175. '少'\n176. '海洋'\n177. '研究'\n178. '開發'\n179. '機構'\n180. '副'\n181. '主任'\n182. '研究員'\n183. '中'\n184. '嶋'\n185. '亮'\n186. '太'\n187. '說'\n188. '根據'\n189. '過去'\n190. '的'\n191. '研究'\n192. '離'\n193. '陸地'\n194. '愈遠'\n195. '垃圾'\n196. '量'\n197. '就'\n198. '愈少'\n199. '但'\n200. '這次'\n201. '調查'\n202. '發現'\n203. '就算'\n204. '離開'\n205. '陸地'\n206. '約'\n207. '公里'\n208. '遠'\n209. '的'\n210. '深'\n211. '海底'\n212. '竟然'\n213. '也'\n214. '成為'\n215. '垃圾'\n216. '棄置'\n217. '場'\n218. '中'\n219. '嶋'\n220. '說'\n221. '這些'\n222. '垃圾'\n223. '可能'\n224. '是'\n225. '被'\n226. '海流'\n227. '沖'\n228. '到'\n229. '外海'\n230. '並在'\n231. '過程'\n232. '中'\n233. '跟'\n234. '海藻'\n235. '纏繞'\n236. '在'\n237. '一起'\n238. '然後'\n239. '沉入'\n240. '深海'\n241. '他'\n242. '說'\n243. '一旦'\n244. '塑膠'\n245. '垃圾'\n246. '沉入'\n247. '深'\n248. '海底'\n249. '要'\n250. '回收'\n251. '幾乎'\n252. '是'\n253. '不'\n254. '可能'\n255. '的'\n256. '事'\n257. '所以'\n258. '有'\n259. '必要'\n260. '徹底'\n261. '做好'\n262. '不讓'\n263. '塑膠'\n264. '垃圾'\n265. '流入'\n266. '大海'\n267. '的'\n268. '相關'\n269. '對策'\n\n\n",
            "text/html": [
              "<style>\n",
              ".list-inline {list-style: none; margin:0; padding: 0}\n",
              ".list-inline>li {display: inline-block}\n",
              ".list-inline>li:not(:last-child)::after {content: \"\\00b7\"; padding: 0 .5ex}\n",
              "</style>\n",
              "<ol class=list-inline><li>'日本'</li><li>'海洋'</li><li>'研究'</li><li>'開發'</li><li>'機構'</li><li>'調查'</li><li>'指出'</li><li>'距離'</li><li>'日本'</li><li>'本島'</li><li>'約'</li><li>'公里'</li><li>'外海'</li><li>'的'</li><li>'深'</li><li>'海底'</li><li>'被'</li><li>'發現'</li><li>'大量'</li><li>'塑膠'</li><li>'垃圾'</li><li>'推估'</li><li>'每'</li><li>'平方公里'</li><li>'最多'</li><li>'高達'</li><li>'約'</li><li>'個'</li><li>'比'</li><li>'離岸'</li><li>'較'</li><li>'近處'</li><li>'發現'</li><li>'的'</li><li>'塑膠'</li><li>'垃圾'</li><li>'量'</li><li>'還多'</li><li>'日本'</li><li>'放送'</li><li>'協會'</li><li>'報導'</li><li>'海洋'</li><li>'研究'</li><li>'開發'</li><li>'機構'</li><li>'研究'</li><li>'團隊'</li><li>'表示'</li><li>'為'</li><li>'釐清'</li><li>'塑膠'</li><li>'垃圾'</li><li>'造成'</li><li>'海洋'</li><li>'污染'</li><li>'的'</li><li>'實際'</li><li>'樣貌'</li><li>'在'</li><li>'年'</li><li>'月'</li><li>'到'</li><li>'月'</li><li>'間'</li><li>'進行'</li><li>'實地調查'</li><li>'研究'</li><li>'團隊'</li><li>'調查'</li><li>'了'</li><li>'離岸'</li><li>'距離'</li><li>'及'</li><li>'水深'</li><li>'皆'</li><li>'不同'</li><li>'的'</li><li>'處'</li><li>'海底'</li><li>'在'</li><li>'千葉縣'</li><li>'所在'</li><li>'的'</li><li>'房'</li><li>'總'</li><li>'半島'</li><li>'外海'</li><li>'約'</li><li>'公里'</li><li>'水深'</li><li>'約'</li><li>'公尺'</li><li>'的'</li><li>'深'</li><li>'海底'</li><li>'發現'</li><li>'了'</li><li>'年'</li><li>'製造'</li><li>'的'</li><li>'漢堡'</li><li>'塑膠'</li><li>'外袋'</li><li>'及'</li><li>'牙膏'</li><li>'軟管'</li><li>'等'</li><li>'塑膠'</li><li>'垃圾'</li><li>'在'</li><li>'房'</li><li>'總'</li><li>'半島'</li><li>'外海'</li><li>'約'</li><li>'公里'</li><li>'深海'</li><li>'也'</li><li>'發現'</li><li>'很多'</li><li>'塑膠'</li><li>'購物袋'</li><li>'及'</li><li>'被'</li><li>'亂'</li><li>'丟的'</li><li>'塑膠'</li><li>'製品'</li><li>'基於'</li><li>'目視'</li><li>'可'</li><li>'確認'</li><li>'的'</li><li>'垃圾'</li><li>'數量'</li><li>'來'</li><li>'推估'</li><li>'塑膠'</li><li>'垃圾'</li><li>'的'</li><li>'總量'</li><li>'每'</li><li>'平方公里'</li><li>'多達'</li><li>'約個'</li><li>'令人'</li><li>'意外'</li><li>'的'</li><li>'是'</li><li>'離'</li><li>'岸邊'</li><li>'約'</li><li>'公里'</li><li>'水深'</li><li>'約'</li><li>'公尺'</li><li>'的'</li><li>'相模灣'</li><li>'被'</li><li>'發現'</li><li>'的'</li><li>'塑膠'</li><li>'垃圾'</li><li>'量'</li><li>'推估'</li><li>'每'</li><li>'平方公里'</li><li>'約'</li><li>'個'</li><li>'相對'</li><li>'於'</li><li>'外海'</li><li>'來得'</li><li>'少'</li><li>'海洋'</li><li>'研究'</li><li>'開發'</li><li>'機構'</li><li>'副'</li><li>'主任'</li><li>'研究員'</li><li>'中'</li><li>'嶋'</li><li>'亮'</li><li>'太'</li><li>'說'</li><li>'根據'</li><li>'過去'</li><li>'的'</li><li>'研究'</li><li>'離'</li><li>'陸地'</li><li>'愈遠'</li><li>'垃圾'</li><li>'量'</li><li>'就'</li><li>'愈少'</li><li>'但'</li><li>'這次'</li><li>'調查'</li><li>'發現'</li><li>'就算'</li><li>'離開'</li><li>'陸地'</li><li>'約'</li><li>'公里'</li><li>'遠'</li><li>'的'</li><li>'深'</li><li>'海底'</li><li>'竟然'</li><li>'也'</li><li>'成為'</li><li>'垃圾'</li><li>'棄置'</li><li>'場'</li><li>'中'</li><li>'嶋'</li><li>'說'</li><li>'這些'</li><li>'垃圾'</li><li>'可能'</li><li>'是'</li><li>'被'</li><li>'海流'</li><li>'沖'</li><li>'到'</li><li>'外海'</li><li>'並在'</li><li>'過程'</li><li>'中'</li><li>'跟'</li><li>'海藻'</li><li>'纏繞'</li><li>'在'</li><li>'一起'</li><li>'然後'</li><li>'沉入'</li><li>'深海'</li><li>'他'</li><li>'說'</li><li>'一旦'</li><li>'塑膠'</li><li>'垃圾'</li><li>'沉入'</li><li>'深'</li><li>'海底'</li><li>'要'</li><li>'回收'</li><li>'幾乎'</li><li>'是'</li><li>'不'</li><li>'可能'</li><li>'的'</li><li>'事'</li><li>'所以'</li><li>'有'</li><li>'必要'</li><li>'徹底'</li><li>'做好'</li><li>'不讓'</li><li>'塑膠'</li><li>'垃圾'</li><li>'流入'</li><li>'大海'</li><li>'的'</li><li>'相關'</li><li>'對策'</li></ol>\n"
            ]
          },
          "metadata": {
            "tags": []
          }
        }
      ]
    },
    {
      "cell_type": "code",
      "metadata": {
        "id": "RYj3bLWxRG1P"
      },
      "source": [
        "new_words <- c(\"海洋\",\"垃圾\",\"塑膠\")\n",
        "writeLines(new_words,\"new_words.txt\")"
      ],
      "execution_count": 29,
      "outputs": []
    },
    {
      "cell_type": "code",
      "metadata": {
        "id": "TyRH_NA7RcLP"
      },
      "source": [
        "stop_words <- c(\"在\",\"之\",\"更\",\"個\",\"未\",\"而\",\"也\",\"的\",\"約\")\n",
        "writeLines(stop_words,\"stop_words.txt\")"
      ],
      "execution_count": 34,
      "outputs": []
    },
    {
      "cell_type": "code",
      "metadata": {
        "colab": {
          "base_uri": "https://localhost:8080/",
          "height": 170
        },
        "id": "y1LyALxHR6At",
        "outputId": "c68210dc-3c88-4314-9b07-00a2719723c1"
      },
      "source": [
        "cutter <- worker(user = \"new_words.txt\",stop_word = \"stop_words.txt\",bylines=FALSE)\n",
        "seg_words <- cutter[content]\n",
        "seg_words"
      ],
      "execution_count": 35,
      "outputs": [
        {
          "output_type": "display_data",
          "data": {
            "text/plain": [
              "  [1] \"日本\"     \"海洋\"     \"研究\"     \"開發\"     \"機構\"     \"調查\"    \n",
              "  [7] \"指出\"     \"距離\"     \"日本\"     \"本島\"     \"公里\"     \"外海\"    \n",
              " [13] \"深\"       \"海底\"     \"被\"       \"發現\"     \"大量\"     \"塑膠\"    \n",
              " [19] \"垃圾\"     \"推估\"     \"每\"       \"平方公里\" \"最多\"     \"高達\"    \n",
              " [25] \"比\"       \"離岸\"     \"較\"       \"近處\"     \"發現\"     \"塑膠\"    \n",
              " [31] \"垃圾\"     \"量\"       \"還多\"     \"日本\"     \"放送\"     \"協會\"    \n",
              " [37] \"報導\"     \"海洋\"     \"研究\"     \"開發\"     \"機構\"     \"研究\"    \n",
              " [43] \"團隊\"     \"表示\"     \"為\"       \"釐清\"     \"塑膠\"     \"垃圾\"    \n",
              " [49] \"造成\"     \"海洋\"     \"污染\"     \"實際\"     \"樣貌\"     \"年\"      \n",
              " [55] \"月\"       \"到\"       \"月\"       \"間\"       \"進行\"     \"實地調查\"\n",
              " [61] \"研究\"     \"團隊\"     \"調查\"     \"了\"       \"離岸\"     \"距離\"    \n",
              " [67] \"及\"       \"水深\"     \"皆\"       \"不同\"     \"處\"       \"海底\"    \n",
              " [73] \"千葉縣\"   \"所在\"     \"房\"       \"總\"       \"半島\"     \"外海\"    \n",
              " [79] \"公里\"     \"水深\"     \"公尺\"     \"深\"       \"海底\"     \"發現\"    \n",
              " [85] \"了\"       \"年\"       \"製造\"     \"漢堡\"     \"塑膠\"     \"外袋\"    \n",
              " [91] \"及\"       \"牙膏\"     \"軟管\"     \"等\"       \"塑膠\"     \"垃圾\"    \n",
              " [97] \"房\"       \"總\"       \"半島\"     \"外海\"     \"公里\"     \"深海\"    \n",
              "[103] \"發現\"     \"很多\"     \"塑膠\"     \"購物袋\"   \"及\"       \"被\"      \n",
              "[109] \"亂\"       \"丟的\"     \"塑膠\"     \"製品\"     \"基於\"     \"目視\"    \n",
              "[115] \"可\"       \"確認\"     \"垃圾\"     \"數量\"     \"來\"       \"推估\"    \n",
              "[121] \"塑膠\"     \"垃圾\"     \"總量\"     \"每\"       \"平方公里\" \"多達\"    \n",
              "[127] \"約個\"     \"令人\"     \"意外\"     \"是\"       \"離\"       \"岸邊\"    \n",
              "[133] \"公里\"     \"水深\"     \"公尺\"     \"相模灣\"   \"被\"       \"發現\"    \n",
              "[139] \"塑膠\"     \"垃圾\"     \"量\"       \"推估\"     \"每\"       \"平方公里\"\n",
              "[145] \"相對\"     \"於\"       \"外海\"     \"來得\"     \"少\"       \"海洋\"    \n",
              "[151] \"研究\"     \"開發\"     \"機構\"     \"副\"       \"主任\"     \"研究員\"  \n",
              "[157] \"中\"       \"嶋\"       \"亮\"       \"太\"       \"說\"       \"根據\"    \n",
              "[163] \"過去\"     \"研究\"     \"離\"       \"陸地\"     \"愈遠\"     \"垃圾\"    \n",
              "[169] \"量\"       \"就\"       \"愈少\"     \"但\"       \"這次\"     \"調查\"    \n",
              "[175] \"發現\"     \"就算\"     \"離開\"     \"陸地\"     \"公里\"     \"遠\"      \n",
              "[181] \"深\"       \"海底\"     \"竟然\"     \"成為\"     \"垃圾\"     \"棄置\"    \n",
              "[187] \"場\"       \"中\"       \"嶋\"       \"說\"       \"這些\"     \"垃圾\"    \n",
              "[193] \"可能\"     \"是\"       \"被\"       \"海流\"     \"沖\"       \"到\"      \n",
              "[199] \"外海\"     \"並在\"     \"過程\"     \"中\"       \"跟\"       \"海藻\"    \n",
              "[205] \"纏繞\"     \"一起\"     \"然後\"     \"沉入\"     \"深海\"     \"他\"      \n",
              "[211] \"說\"       \"一旦\"     \"塑膠\"     \"垃圾\"     \"沉入\"     \"深\"      \n",
              "[217] \"海底\"     \"要\"       \"回收\"     \"幾乎\"     \"是\"       \"不\"      \n",
              "[223] \"可能\"     \"事\"       \"所以\"     \"有\"       \"必要\"     \"徹底\"    \n",
              "[229] \"做好\"     \"不讓\"     \"塑膠\"     \"垃圾\"     \"流入\"     \"大海\"    \n",
              "[235] \"相關\"     \"對策\"    "
            ],
            "text/latex": "\\begin{enumerate*}\n\\item '日本'\n\\item '海洋'\n\\item '研究'\n\\item '開發'\n\\item '機構'\n\\item '調查'\n\\item '指出'\n\\item '距離'\n\\item '日本'\n\\item '本島'\n\\item '公里'\n\\item '外海'\n\\item '深'\n\\item '海底'\n\\item '被'\n\\item '發現'\n\\item '大量'\n\\item '塑膠'\n\\item '垃圾'\n\\item '推估'\n\\item '每'\n\\item '平方公里'\n\\item '最多'\n\\item '高達'\n\\item '比'\n\\item '離岸'\n\\item '較'\n\\item '近處'\n\\item '發現'\n\\item '塑膠'\n\\item '垃圾'\n\\item '量'\n\\item '還多'\n\\item '日本'\n\\item '放送'\n\\item '協會'\n\\item '報導'\n\\item '海洋'\n\\item '研究'\n\\item '開發'\n\\item '機構'\n\\item '研究'\n\\item '團隊'\n\\item '表示'\n\\item '為'\n\\item '釐清'\n\\item '塑膠'\n\\item '垃圾'\n\\item '造成'\n\\item '海洋'\n\\item '污染'\n\\item '實際'\n\\item '樣貌'\n\\item '年'\n\\item '月'\n\\item '到'\n\\item '月'\n\\item '間'\n\\item '進行'\n\\item '實地調查'\n\\item '研究'\n\\item '團隊'\n\\item '調查'\n\\item '了'\n\\item '離岸'\n\\item '距離'\n\\item '及'\n\\item '水深'\n\\item '皆'\n\\item '不同'\n\\item '處'\n\\item '海底'\n\\item '千葉縣'\n\\item '所在'\n\\item '房'\n\\item '總'\n\\item '半島'\n\\item '外海'\n\\item '公里'\n\\item '水深'\n\\item '公尺'\n\\item '深'\n\\item '海底'\n\\item '發現'\n\\item '了'\n\\item '年'\n\\item '製造'\n\\item '漢堡'\n\\item '塑膠'\n\\item '外袋'\n\\item '及'\n\\item '牙膏'\n\\item '軟管'\n\\item '等'\n\\item '塑膠'\n\\item '垃圾'\n\\item '房'\n\\item '總'\n\\item '半島'\n\\item '外海'\n\\item '公里'\n\\item '深海'\n\\item '發現'\n\\item '很多'\n\\item '塑膠'\n\\item '購物袋'\n\\item '及'\n\\item '被'\n\\item '亂'\n\\item '丟的'\n\\item '塑膠'\n\\item '製品'\n\\item '基於'\n\\item '目視'\n\\item '可'\n\\item '確認'\n\\item '垃圾'\n\\item '數量'\n\\item '來'\n\\item '推估'\n\\item '塑膠'\n\\item '垃圾'\n\\item '總量'\n\\item '每'\n\\item '平方公里'\n\\item '多達'\n\\item '約個'\n\\item '令人'\n\\item '意外'\n\\item '是'\n\\item '離'\n\\item '岸邊'\n\\item '公里'\n\\item '水深'\n\\item '公尺'\n\\item '相模灣'\n\\item '被'\n\\item '發現'\n\\item '塑膠'\n\\item '垃圾'\n\\item '量'\n\\item '推估'\n\\item '每'\n\\item '平方公里'\n\\item '相對'\n\\item '於'\n\\item '外海'\n\\item '來得'\n\\item '少'\n\\item '海洋'\n\\item '研究'\n\\item '開發'\n\\item '機構'\n\\item '副'\n\\item '主任'\n\\item '研究員'\n\\item '中'\n\\item '嶋'\n\\item '亮'\n\\item '太'\n\\item '說'\n\\item '根據'\n\\item '過去'\n\\item '研究'\n\\item '離'\n\\item '陸地'\n\\item '愈遠'\n\\item '垃圾'\n\\item '量'\n\\item '就'\n\\item '愈少'\n\\item '但'\n\\item '這次'\n\\item '調查'\n\\item '發現'\n\\item '就算'\n\\item '離開'\n\\item '陸地'\n\\item '公里'\n\\item '遠'\n\\item '深'\n\\item '海底'\n\\item '竟然'\n\\item '成為'\n\\item '垃圾'\n\\item '棄置'\n\\item '場'\n\\item '中'\n\\item '嶋'\n\\item '說'\n\\item '這些'\n\\item '垃圾'\n\\item '可能'\n\\item '是'\n\\item '被'\n\\item '海流'\n\\item '沖'\n\\item '到'\n\\item '外海'\n\\item '並在'\n\\item '過程'\n\\item '中'\n\\item '跟'\n\\item '海藻'\n\\item '纏繞'\n\\item '一起'\n\\item '然後'\n\\item '沉入'\n\\item '深海'\n\\item '他'\n\\item '說'\n\\item '一旦'\n\\item '塑膠'\n\\item '垃圾'\n\\item '沉入'\n\\item '深'\n\\item '海底'\n\\item '要'\n\\item '回收'\n\\item '幾乎'\n\\item '是'\n\\item '不'\n\\item '可能'\n\\item '事'\n\\item '所以'\n\\item '有'\n\\item '必要'\n\\item '徹底'\n\\item '做好'\n\\item '不讓'\n\\item '塑膠'\n\\item '垃圾'\n\\item '流入'\n\\item '大海'\n\\item '相關'\n\\item '對策'\n\\end{enumerate*}\n",
            "text/markdown": "1. '日本'\n2. '海洋'\n3. '研究'\n4. '開發'\n5. '機構'\n6. '調查'\n7. '指出'\n8. '距離'\n9. '日本'\n10. '本島'\n11. '公里'\n12. '外海'\n13. '深'\n14. '海底'\n15. '被'\n16. '發現'\n17. '大量'\n18. '塑膠'\n19. '垃圾'\n20. '推估'\n21. '每'\n22. '平方公里'\n23. '最多'\n24. '高達'\n25. '比'\n26. '離岸'\n27. '較'\n28. '近處'\n29. '發現'\n30. '塑膠'\n31. '垃圾'\n32. '量'\n33. '還多'\n34. '日本'\n35. '放送'\n36. '協會'\n37. '報導'\n38. '海洋'\n39. '研究'\n40. '開發'\n41. '機構'\n42. '研究'\n43. '團隊'\n44. '表示'\n45. '為'\n46. '釐清'\n47. '塑膠'\n48. '垃圾'\n49. '造成'\n50. '海洋'\n51. '污染'\n52. '實際'\n53. '樣貌'\n54. '年'\n55. '月'\n56. '到'\n57. '月'\n58. '間'\n59. '進行'\n60. '實地調查'\n61. '研究'\n62. '團隊'\n63. '調查'\n64. '了'\n65. '離岸'\n66. '距離'\n67. '及'\n68. '水深'\n69. '皆'\n70. '不同'\n71. '處'\n72. '海底'\n73. '千葉縣'\n74. '所在'\n75. '房'\n76. '總'\n77. '半島'\n78. '外海'\n79. '公里'\n80. '水深'\n81. '公尺'\n82. '深'\n83. '海底'\n84. '發現'\n85. '了'\n86. '年'\n87. '製造'\n88. '漢堡'\n89. '塑膠'\n90. '外袋'\n91. '及'\n92. '牙膏'\n93. '軟管'\n94. '等'\n95. '塑膠'\n96. '垃圾'\n97. '房'\n98. '總'\n99. '半島'\n100. '外海'\n101. '公里'\n102. '深海'\n103. '發現'\n104. '很多'\n105. '塑膠'\n106. '購物袋'\n107. '及'\n108. '被'\n109. '亂'\n110. '丟的'\n111. '塑膠'\n112. '製品'\n113. '基於'\n114. '目視'\n115. '可'\n116. '確認'\n117. '垃圾'\n118. '數量'\n119. '來'\n120. '推估'\n121. '塑膠'\n122. '垃圾'\n123. '總量'\n124. '每'\n125. '平方公里'\n126. '多達'\n127. '約個'\n128. '令人'\n129. '意外'\n130. '是'\n131. '離'\n132. '岸邊'\n133. '公里'\n134. '水深'\n135. '公尺'\n136. '相模灣'\n137. '被'\n138. '發現'\n139. '塑膠'\n140. '垃圾'\n141. '量'\n142. '推估'\n143. '每'\n144. '平方公里'\n145. '相對'\n146. '於'\n147. '外海'\n148. '來得'\n149. '少'\n150. '海洋'\n151. '研究'\n152. '開發'\n153. '機構'\n154. '副'\n155. '主任'\n156. '研究員'\n157. '中'\n158. '嶋'\n159. '亮'\n160. '太'\n161. '說'\n162. '根據'\n163. '過去'\n164. '研究'\n165. '離'\n166. '陸地'\n167. '愈遠'\n168. '垃圾'\n169. '量'\n170. '就'\n171. '愈少'\n172. '但'\n173. '這次'\n174. '調查'\n175. '發現'\n176. '就算'\n177. '離開'\n178. '陸地'\n179. '公里'\n180. '遠'\n181. '深'\n182. '海底'\n183. '竟然'\n184. '成為'\n185. '垃圾'\n186. '棄置'\n187. '場'\n188. '中'\n189. '嶋'\n190. '說'\n191. '這些'\n192. '垃圾'\n193. '可能'\n194. '是'\n195. '被'\n196. '海流'\n197. '沖'\n198. '到'\n199. '外海'\n200. '並在'\n201. '過程'\n202. '中'\n203. '跟'\n204. '海藻'\n205. '纏繞'\n206. '一起'\n207. '然後'\n208. '沉入'\n209. '深海'\n210. '他'\n211. '說'\n212. '一旦'\n213. '塑膠'\n214. '垃圾'\n215. '沉入'\n216. '深'\n217. '海底'\n218. '要'\n219. '回收'\n220. '幾乎'\n221. '是'\n222. '不'\n223. '可能'\n224. '事'\n225. '所以'\n226. '有'\n227. '必要'\n228. '徹底'\n229. '做好'\n230. '不讓'\n231. '塑膠'\n232. '垃圾'\n233. '流入'\n234. '大海'\n235. '相關'\n236. '對策'\n\n\n",
            "text/html": [
              "<style>\n",
              ".list-inline {list-style: none; margin:0; padding: 0}\n",
              ".list-inline>li {display: inline-block}\n",
              ".list-inline>li:not(:last-child)::after {content: \"\\00b7\"; padding: 0 .5ex}\n",
              "</style>\n",
              "<ol class=list-inline><li>'日本'</li><li>'海洋'</li><li>'研究'</li><li>'開發'</li><li>'機構'</li><li>'調查'</li><li>'指出'</li><li>'距離'</li><li>'日本'</li><li>'本島'</li><li>'公里'</li><li>'外海'</li><li>'深'</li><li>'海底'</li><li>'被'</li><li>'發現'</li><li>'大量'</li><li>'塑膠'</li><li>'垃圾'</li><li>'推估'</li><li>'每'</li><li>'平方公里'</li><li>'最多'</li><li>'高達'</li><li>'比'</li><li>'離岸'</li><li>'較'</li><li>'近處'</li><li>'發現'</li><li>'塑膠'</li><li>'垃圾'</li><li>'量'</li><li>'還多'</li><li>'日本'</li><li>'放送'</li><li>'協會'</li><li>'報導'</li><li>'海洋'</li><li>'研究'</li><li>'開發'</li><li>'機構'</li><li>'研究'</li><li>'團隊'</li><li>'表示'</li><li>'為'</li><li>'釐清'</li><li>'塑膠'</li><li>'垃圾'</li><li>'造成'</li><li>'海洋'</li><li>'污染'</li><li>'實際'</li><li>'樣貌'</li><li>'年'</li><li>'月'</li><li>'到'</li><li>'月'</li><li>'間'</li><li>'進行'</li><li>'實地調查'</li><li>'研究'</li><li>'團隊'</li><li>'調查'</li><li>'了'</li><li>'離岸'</li><li>'距離'</li><li>'及'</li><li>'水深'</li><li>'皆'</li><li>'不同'</li><li>'處'</li><li>'海底'</li><li>'千葉縣'</li><li>'所在'</li><li>'房'</li><li>'總'</li><li>'半島'</li><li>'外海'</li><li>'公里'</li><li>'水深'</li><li>'公尺'</li><li>'深'</li><li>'海底'</li><li>'發現'</li><li>'了'</li><li>'年'</li><li>'製造'</li><li>'漢堡'</li><li>'塑膠'</li><li>'外袋'</li><li>'及'</li><li>'牙膏'</li><li>'軟管'</li><li>'等'</li><li>'塑膠'</li><li>'垃圾'</li><li>'房'</li><li>'總'</li><li>'半島'</li><li>'外海'</li><li>'公里'</li><li>'深海'</li><li>'發現'</li><li>'很多'</li><li>'塑膠'</li><li>'購物袋'</li><li>'及'</li><li>'被'</li><li>'亂'</li><li>'丟的'</li><li>'塑膠'</li><li>'製品'</li><li>'基於'</li><li>'目視'</li><li>'可'</li><li>'確認'</li><li>'垃圾'</li><li>'數量'</li><li>'來'</li><li>'推估'</li><li>'塑膠'</li><li>'垃圾'</li><li>'總量'</li><li>'每'</li><li>'平方公里'</li><li>'多達'</li><li>'約個'</li><li>'令人'</li><li>'意外'</li><li>'是'</li><li>'離'</li><li>'岸邊'</li><li>'公里'</li><li>'水深'</li><li>'公尺'</li><li>'相模灣'</li><li>'被'</li><li>'發現'</li><li>'塑膠'</li><li>'垃圾'</li><li>'量'</li><li>'推估'</li><li>'每'</li><li>'平方公里'</li><li>'相對'</li><li>'於'</li><li>'外海'</li><li>'來得'</li><li>'少'</li><li>'海洋'</li><li>'研究'</li><li>'開發'</li><li>'機構'</li><li>'副'</li><li>'主任'</li><li>'研究員'</li><li>'中'</li><li>'嶋'</li><li>'亮'</li><li>'太'</li><li>'說'</li><li>'根據'</li><li>'過去'</li><li>'研究'</li><li>'離'</li><li>'陸地'</li><li>'愈遠'</li><li>'垃圾'</li><li>'量'</li><li>'就'</li><li>'愈少'</li><li>'但'</li><li>'這次'</li><li>'調查'</li><li>'發現'</li><li>'就算'</li><li>'離開'</li><li>'陸地'</li><li>'公里'</li><li>'遠'</li><li>'深'</li><li>'海底'</li><li>'竟然'</li><li>'成為'</li><li>'垃圾'</li><li>'棄置'</li><li>'場'</li><li>'中'</li><li>'嶋'</li><li>'說'</li><li>'這些'</li><li>'垃圾'</li><li>'可能'</li><li>'是'</li><li>'被'</li><li>'海流'</li><li>'沖'</li><li>'到'</li><li>'外海'</li><li>'並在'</li><li>'過程'</li><li>'中'</li><li>'跟'</li><li>'海藻'</li><li>'纏繞'</li><li>'一起'</li><li>'然後'</li><li>'沉入'</li><li>'深海'</li><li>'他'</li><li>'說'</li><li>'一旦'</li><li>'塑膠'</li><li>'垃圾'</li><li>'沉入'</li><li>'深'</li><li>'海底'</li><li>'要'</li><li>'回收'</li><li>'幾乎'</li><li>'是'</li><li>'不'</li><li>'可能'</li><li>'事'</li><li>'所以'</li><li>'有'</li><li>'必要'</li><li>'徹底'</li><li>'做好'</li><li>'不讓'</li><li>'塑膠'</li><li>'垃圾'</li><li>'流入'</li><li>'大海'</li><li>'相關'</li><li>'對策'</li></ol>\n"
            ]
          },
          "metadata": {
            "tags": []
          }
        }
      ]
    },
    {
      "cell_type": "code",
      "metadata": {
        "colab": {
          "base_uri": "https://localhost:8080/",
          "height": 283
        },
        "id": "DNlF-u4HSbHE",
        "outputId": "0fdf4521-a6cf-4e80-c6a2-f6aeb73f95a1"
      },
      "source": [
        "#計算詞彙頻率\n",
        "txt_freq <- freq(seg_words)\n",
        "#由大到小排列\n",
        "txt_freq <- arrange(txt_freq,desc(freq))\n",
        "#檢查前５名\n",
        "head(txt_freq)"
      ],
      "execution_count": 36,
      "outputs": [
        {
          "output_type": "display_data",
          "data": {
            "text/plain": [
              "  char freq\n",
              "1 垃圾 12  \n",
              "2 塑膠 11  \n",
              "3 研究  6  \n",
              "4 發現  6  \n",
              "5 海底  5  \n",
              "6 公里  5  "
            ],
            "text/latex": "A data.frame: 6 × 2\n\\begin{tabular}{r|ll}\n  & char & freq\\\\\n  & <chr> & <dbl>\\\\\n\\hline\n\t1 & 垃圾 & 12\\\\\n\t2 & 塑膠 & 11\\\\\n\t3 & 研究 &  6\\\\\n\t4 & 發現 &  6\\\\\n\t5 & 海底 &  5\\\\\n\t6 & 公里 &  5\\\\\n\\end{tabular}\n",
            "text/markdown": "\nA data.frame: 6 × 2\n\n| <!--/--> | char &lt;chr&gt; | freq &lt;dbl&gt; |\n|---|---|---|\n| 1 | 垃圾 | 12 |\n| 2 | 塑膠 | 11 |\n| 3 | 研究 |  6 |\n| 4 | 發現 |  6 |\n| 5 | 海底 |  5 |\n| 6 | 公里 |  5 |\n\n",
            "text/html": [
              "<table class=\"dataframe\">\n",
              "<caption>A data.frame: 6 × 2</caption>\n",
              "<thead>\n",
              "\t<tr><th></th><th scope=col>char</th><th scope=col>freq</th></tr>\n",
              "\t<tr><th></th><th scope=col>&lt;chr&gt;</th><th scope=col>&lt;dbl&gt;</th></tr>\n",
              "</thead>\n",
              "<tbody>\n",
              "\t<tr><th scope=row>1</th><td>垃圾</td><td>12</td></tr>\n",
              "\t<tr><th scope=row>2</th><td>塑膠</td><td>11</td></tr>\n",
              "\t<tr><th scope=row>3</th><td>研究</td><td> 6</td></tr>\n",
              "\t<tr><th scope=row>4</th><td>發現</td><td> 6</td></tr>\n",
              "\t<tr><th scope=row>5</th><td>海底</td><td> 5</td></tr>\n",
              "\t<tr><th scope=row>6</th><td>公里</td><td> 5</td></tr>\n",
              "</tbody>\n",
              "</table>\n"
            ]
          },
          "metadata": {
            "tags": []
          }
        }
      ]
    },
    {
      "cell_type": "code",
      "metadata": {
        "id": "ZPMVszgdSoSB"
      },
      "source": [
        "par(family=(\"Microsoft YaHei\"))"
      ],
      "execution_count": 42,
      "outputs": []
    },
    {
      "cell_type": "code",
      "metadata": {
        "colab": {
          "base_uri": "https://localhost:8080/",
          "height": 437
        },
        "id": "lWXw73HMW3DM",
        "outputId": "f2984855-8fc9-4c9b-895b-ca76c9610327"
      },
      "source": [
        "wordcloud(txt_freq$char , txt_freq$freq,min.freq=2,random.order = F,ordered.colors = F,colors = rainbow(nrow(txt_freq)))"
      ],
      "execution_count": 43,
      "outputs": [
        {
          "output_type": "display_data",
          "data": {
            "image/png": "[encoded data removed]",
            "text/plain": [
              "plot without title"
            ]
          },
          "metadata": {
            "tags": [],
            "image/png": {
              "width": 420,
              "height": 420
            }
          }
        }
      ]
    },
    {
      "cell_type": "code",
      "metadata": {
        "colab": {
          "base_uri": "https://localhost:8080/"
        },
        "id": "VfsEwk0pXcZN",
        "outputId": "26054473-f877-4d30-9e6c-18682cdb98f8"
      },
      "source": [
        "install.packages(\"showtext\")"
      ],
      "execution_count": 44,
      "outputs": [
        {
          "output_type": "stream",
          "text": [
            "Installing package into ‘/usr/local/lib/R/site-library’\n",
            "(as ‘lib’ is unspecified)\n",
            "\n"
          ],
          "name": "stderr"
        }
      ]
    },
    {
      "cell_type": "code",
      "metadata": {
        "id": "u2JB4_DOYeZ3"
      },
      "source": [
        "library(showtext)"
      ],
      "execution_count": 45,
      "outputs": []
    },
    {
      "cell_type": "code",
      "metadata": {
        "id": "8UUUvFctYldV"
      },
      "source": [
        "showtext.auto(enable = TRUE)"
      ],
      "execution_count": 46,
      "outputs": []
    }
  ]
}